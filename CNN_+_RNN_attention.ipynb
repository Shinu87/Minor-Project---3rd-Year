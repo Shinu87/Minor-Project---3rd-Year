{
  "cells": [
    {
      "cell_type": "markdown",
      "id": "6c37c20b",
      "metadata": {
        "id": "6c37c20b"
      },
      "source": [
        "# Loading all the dependencies"
      ]
    },
    {
      "cell_type": "code",
      "execution_count": 1,
      "id": "c3f90018",
      "metadata": {
        "id": "c3f90018"
      },
      "outputs": [],
      "source": [
        "import matplotlib.pyplot as plt\n",
        "import time\n",
        "import tensorflow as tf\n",
        "from tqdm import tqdm\n",
        "from glob import glob\n",
        "from PIL import Image\n",
        "import nltk\n",
        "import string\n",
        "import warnings\n",
        "import os\n",
        "from tensorflow.keras.preprocessing.text import Tokenizer\n",
        "from tensorflow.keras.preprocessing.sequence import pad_sequences\n",
        "import numpy as np\n",
        "from tensorflow.compat.v1 import ConfigProto\n",
        "from tensorflow.compat.v1 import InteractiveSession"
      ]
    },
    {
      "cell_type": "code",
      "source": [
        "!pip install rouge-score"
      ],
      "metadata": {
        "id": "JDU3IbvYH9s2",
        "colab": {
          "base_uri": "https://localhost:8080/"
        },
        "outputId": "4ad4ffdf-8d44-483a-831e-a58cbf24d8eb"
      },
      "id": "JDU3IbvYH9s2",
      "execution_count": 2,
      "outputs": [
        {
          "output_type": "stream",
          "name": "stdout",
          "text": [
            "Collecting rouge-score\n",
            "  Downloading rouge_score-0.1.2.tar.gz (17 kB)\n",
            "  Preparing metadata (setup.py) ... \u001b[?25l\u001b[?25hdone\n",
            "Requirement already satisfied: absl-py in /usr/local/lib/python3.11/dist-packages (from rouge-score) (1.4.0)\n",
            "Requirement already satisfied: nltk in /usr/local/lib/python3.11/dist-packages (from rouge-score) (3.9.1)\n",
            "Requirement already satisfied: numpy in /usr/local/lib/python3.11/dist-packages (from rouge-score) (2.0.2)\n",
            "Requirement already satisfied: six>=1.14.0 in /usr/local/lib/python3.11/dist-packages (from rouge-score) (1.17.0)\n",
            "Requirement already satisfied: click in /usr/local/lib/python3.11/dist-packages (from nltk->rouge-score) (8.1.8)\n",
            "Requirement already satisfied: joblib in /usr/local/lib/python3.11/dist-packages (from nltk->rouge-score) (1.4.2)\n",
            "Requirement already satisfied: regex>=2021.8.3 in /usr/local/lib/python3.11/dist-packages (from nltk->rouge-score) (2024.11.6)\n",
            "Requirement already satisfied: tqdm in /usr/local/lib/python3.11/dist-packages (from nltk->rouge-score) (4.67.1)\n",
            "Building wheels for collected packages: rouge-score\n",
            "  Building wheel for rouge-score (setup.py) ... \u001b[?25l\u001b[?25hdone\n",
            "  Created wheel for rouge-score: filename=rouge_score-0.1.2-py3-none-any.whl size=24935 sha256=5519ce2a7f18b418525ae40f9918bb6146c10eb04178aa4ee67cc937bdf177b9\n",
            "  Stored in directory: /root/.cache/pip/wheels/1e/19/43/8a442dc83660ca25e163e1bd1f89919284ab0d0c1475475148\n",
            "Successfully built rouge-score\n",
            "Installing collected packages: rouge-score\n",
            "Successfully installed rouge-score-0.1.2\n"
          ]
        }
      ]
    },
    {
      "cell_type": "code",
      "execution_count": 3,
      "id": "e7084b6e",
      "metadata": {
        "id": "e7084b6e"
      },
      "outputs": [],
      "source": [
        "warnings.filterwarnings(\"ignore\")\n",
        "config = ConfigProto()\n",
        "config.gpu_options.allow_growth = True\n",
        "session = InteractiveSession(config=config)"
      ]
    },
    {
      "cell_type": "code",
      "execution_count": 4,
      "id": "20c25c05",
      "metadata": {
        "id": "20c25c05",
        "colab": {
          "base_uri": "https://localhost:8080/"
        },
        "outputId": "3e31437c-6a66-42ef-b5a6-05a8b6ebd92e"
      },
      "outputs": [
        {
          "output_type": "execute_result",
          "data": {
            "text/plain": [
              "[PhysicalDevice(name='/physical_device:CPU:0', device_type='CPU'),\n",
              " PhysicalDevice(name='/physical_device:GPU:0', device_type='GPU')]"
            ]
          },
          "metadata": {},
          "execution_count": 4
        }
      ],
      "source": [
        "tf.config.experimental.list_physical_devices()"
      ]
    },
    {
      "cell_type": "markdown",
      "id": "b6d5041d",
      "metadata": {
        "id": "b6d5041d"
      },
      "source": [
        "# Defining the constants"
      ]
    },
    {
      "cell_type": "code",
      "execution_count": 5,
      "id": "8b552961",
      "metadata": {
        "id": "8b552961"
      },
      "outputs": [],
      "source": [
        "IMG_H = 224\n",
        "IMG_W = 224"
      ]
    },
    {
      "cell_type": "code",
      "execution_count": 6,
      "id": "f9c900d8",
      "metadata": {
        "id": "f9c900d8"
      },
      "outputs": [],
      "source": [
        "# Batch size\n",
        "BATCH_SIZE = 100\n",
        "# Buffer size\n",
        "BUFFER_SIZE = 1000"
      ]
    },
    {
      "cell_type": "markdown",
      "id": "858bfbd8",
      "metadata": {
        "id": "858bfbd8"
      },
      "source": [
        "# Defining img file paths"
      ]
    },
    {
      "cell_type": "code",
      "source": [
        "import gdown\n",
        "import zipfile\n",
        "\n",
        "image_url = \"https://github.com/jbrownlee/Datasets/releases/download/Flickr8k/Flickr8k_Dataset.zip\"\n",
        "caption_url = \"https://github.com/jbrownlee/Datasets/releases/download/Flickr8k/Flickr8k_text.zip\"\n",
        "\n",
        "os.makedirs(\"flickr8k\", exist_ok=True)\n",
        "\n",
        "image_zip_path = \"flickr8k/Flickr8k_Dataset.zip\"\n",
        "gdown.download(image_url, image_zip_path, quiet=False)\n",
        "\n",
        "caption_zip_path = \"flickr8k/Flickr8k_text.zip\"\n",
        "gdown.download(caption_url, caption_zip_path, quiet=False)\n",
        "\n",
        "with zipfile.ZipFile(image_zip_path, \"r\") as zip_ref:\n",
        "    zip_ref.extractall(\"flickr8k/\")\n",
        "\n",
        "with zipfile.ZipFile(caption_zip_path, \"r\") as zip_ref:\n",
        "    zip_ref.extractall(\"flickr8k/\")\n",
        "\n",
        "print(\"Dataset downloaded and extracted.\")"
      ],
      "metadata": {
        "colab": {
          "base_uri": "https://localhost:8080/"
        },
        "id": "xYP9pig-fbm3",
        "outputId": "f3ea9cd1-3bfb-4acd-90f9-a91ec5a6804f"
      },
      "id": "xYP9pig-fbm3",
      "execution_count": 7,
      "outputs": [
        {
          "output_type": "stream",
          "name": "stderr",
          "text": [
            "Downloading...\n",
            "From: https://github.com/jbrownlee/Datasets/releases/download/Flickr8k/Flickr8k_Dataset.zip\n",
            "To: /content/flickr8k/Flickr8k_Dataset.zip\n",
            "100%|██████████| 1.12G/1.12G [00:06<00:00, 181MB/s]\n",
            "Downloading...\n",
            "From: https://github.com/jbrownlee/Datasets/releases/download/Flickr8k/Flickr8k_text.zip\n",
            "To: /content/flickr8k/Flickr8k_text.zip\n",
            "100%|██████████| 2.34M/2.34M [00:00<00:00, 164MB/s]\n"
          ]
        },
        {
          "output_type": "stream",
          "name": "stdout",
          "text": [
            "Dataset downloaded and extracted.\n"
          ]
        }
      ]
    },
    {
      "cell_type": "code",
      "execution_count": 8,
      "id": "02bb551d",
      "metadata": {
        "id": "02bb551d"
      },
      "outputs": [],
      "source": [
        "IMG_FILE_PATH = \"/content/flickr8k/Flicker8k_Dataset/\"\n"
      ]
    },
    {
      "cell_type": "markdown",
      "id": "91313d5f",
      "metadata": {
        "id": "91313d5f"
      },
      "source": [
        "# Defining txt file paths"
      ]
    },
    {
      "cell_type": "code",
      "execution_count": 9,
      "id": "36f93f38",
      "metadata": {
        "colab": {
          "base_uri": "https://localhost:8080/"
        },
        "id": "36f93f38",
        "outputId": "87092f92-a738-45c4-df07-681f2f897a2a"
      },
      "outputs": [
        {
          "output_type": "stream",
          "name": "stdout",
          "text": [
            "Paths updated for Google Colab!\n"
          ]
        }
      ],
      "source": [
        "BASE_DIR = \"/content/flickr8k\"\n",
        "CAP_TEXT_PATH = os.path.join(BASE_DIR, \"Flickr8k.token.txt\")\n",
        "TRAIN_TXT_PATH = os.path.join(BASE_DIR, \"Flickr_8k.trainImages.txt\")\n",
        "TEST_TXT_PATH = os.path.join(BASE_DIR, \"Flickr_8k.testImages.txt\")\n",
        "VAL_TXT_PATH = os.path.join(BASE_DIR, \"Flickr_8k.devImages.txt\")\n",
        "TXT_PATH = os.path.join(BASE_DIR, \"Flickr_8k.trainImages.txt\")\n",
        "print(\"Paths updated for Google Colab!\")"
      ]
    },
    {
      "cell_type": "markdown",
      "id": "d0891cce",
      "metadata": {
        "id": "d0891cce"
      },
      "source": [
        "# Utility Functions to load and clean images\n"
      ]
    },
    {
      "cell_type": "code",
      "execution_count": 10,
      "id": "82bff665",
      "metadata": {
        "id": "82bff665"
      },
      "outputs": [],
      "source": [
        "def all_img_name_vector(images_path: str, ext: str = r\".jpg\") -> list:\n",
        "    images_path_list = glob(images_path + '*.jpg')\n",
        "    print(f\"{len(images_path_list)} images found from {images_path}.\")\n",
        "    return images_path_list\n"
      ]
    },
    {
      "cell_type": "code",
      "execution_count": 11,
      "id": "5dcd45fe",
      "metadata": {
        "id": "5dcd45fe"
      },
      "outputs": [],
      "source": [
        "def cnn_model() -> tf.keras.Model:\n",
        "    model = tf.keras.applications.VGG16(include_top=False, weights='imagenet')\n",
        "    model = tf.keras.Model(inputs=model.inputs, outputs=model.layers[-1].output)\n",
        "    print(model.summary())\n",
        "    return model"
      ]
    },
    {
      "cell_type": "code",
      "execution_count": 12,
      "id": "f1d6a7ad",
      "metadata": {
        "id": "f1d6a7ad"
      },
      "outputs": [],
      "source": [
        "def load_img(image_path: str, img_h: str = IMG_H, img_w: str = IMG_W) -> (object, str):\n",
        "    img = tf.io.read_file(image_path)\n",
        "    img = tf.image.decode_jpeg(img, channels=3)\n",
        "    img = tf.image.resize(img, (img_h, img_w))\n",
        "    img = tf.keras.applications.vgg16.preprocess_input(img)\n",
        "    return img, image_path"
      ]
    },
    {
      "cell_type": "code",
      "execution_count": 13,
      "id": "2fe694db",
      "metadata": {
        "id": "2fe694db"
      },
      "outputs": [],
      "source": [
        "def load_doc(filename: str) -> str:\n",
        "    with open(filename, 'r') as file:\n",
        "        text = file.read()\n",
        "    return text"
      ]
    },
    {
      "cell_type": "code",
      "execution_count": 14,
      "id": "4edc83ae",
      "metadata": {
        "id": "4edc83ae"
      },
      "outputs": [],
      "source": [
        "def load_set(text_file_path: str) -> set:\n",
        "    doc = load_doc(text_file_path)\n",
        "    dataset = list()\n",
        "    for line in doc.split('\\n'):\n",
        "        if len(line) < 1:\n",
        "            continue\n",
        "        identifier = line.split('.')[0]\n",
        "        dataset.append(identifier)\n",
        "    return set(dataset)"
      ]
    },
    {
      "cell_type": "code",
      "execution_count": 15,
      "id": "b7252e87",
      "metadata": {
        "id": "b7252e87"
      },
      "outputs": [],
      "source": [
        "def img_name_2_path(image_name: str, img_file_path: str = IMG_FILE_PATH, ext: str = r\".jpg\") -> str:\n",
        "    image_path = img_file_path + str(image_name) + ext\n",
        "    return image_path"
      ]
    },
    {
      "cell_type": "code",
      "execution_count": 16,
      "id": "01274c55",
      "metadata": {
        "id": "01274c55"
      },
      "outputs": [],
      "source": [
        "def load_img_dataset(txt_path: str, batch_size=BATCH_SIZE):\n",
        "    img_name_vector = list(load_set(txt_path)) # Select first 100 images\n",
        "    img_path_list = list(map(img_name_2_path, img_name_vector))\n",
        "    encode_train = sorted(img_path_list)\n",
        "\n",
        "    image_dataset = tf.data.Dataset.from_tensor_slices(encode_train)\n",
        "    image_dataset = image_dataset.map(load_img, num_parallel_calls=tf.data.experimental.AUTOTUNE).batch(batch_size)\n",
        "\n",
        "    return image_dataset\n"
      ]
    },
    {
      "cell_type": "markdown",
      "id": "9527e6ec",
      "metadata": {
        "id": "9527e6ec"
      },
      "source": [
        "# Features extractraction"
      ]
    },
    {
      "cell_type": "markdown",
      "id": "93225784",
      "metadata": {
        "id": "93225784"
      },
      "source": [
        "## Loading the train images"
      ]
    },
    {
      "cell_type": "code",
      "execution_count": 17,
      "id": "e6998874",
      "metadata": {
        "colab": {
          "base_uri": "https://localhost:8080/",
          "height": 35
        },
        "id": "e6998874",
        "outputId": "13f9e11a-fcd4-4530-8163-7a37d8c28a11"
      },
      "outputs": [
        {
          "output_type": "execute_result",
          "data": {
            "text/plain": [
              "'/content/flickr8k/Flickr_8k.trainImages.txt'"
            ],
            "application/vnd.google.colaboratory.intrinsic+json": {
              "type": "string"
            }
          },
          "metadata": {},
          "execution_count": 17
        }
      ],
      "source": [
        "TRAIN_TXT_PATH"
      ]
    },
    {
      "cell_type": "code",
      "execution_count": 18,
      "id": "9b3273fd",
      "metadata": {
        "id": "9b3273fd"
      },
      "outputs": [],
      "source": [
        "image_train_dataset = load_img_dataset(TRAIN_TXT_PATH)"
      ]
    },
    {
      "cell_type": "code",
      "execution_count": 19,
      "id": "3e047e83",
      "metadata": {
        "colab": {
          "base_uri": "https://localhost:8080/"
        },
        "id": "3e047e83",
        "outputId": "29593785-603f-46a7-d102-91e53dba3013"
      },
      "outputs": [
        {
          "output_type": "execute_result",
          "data": {
            "text/plain": [
              "<_BatchDataset element_spec=(TensorSpec(shape=(None, 224, 224, 3), dtype=tf.float32, name=None), TensorSpec(shape=(None,), dtype=tf.string, name=None))>"
            ]
          },
          "metadata": {},
          "execution_count": 19
        }
      ],
      "source": [
        "image_train_dataset"
      ]
    },
    {
      "cell_type": "markdown",
      "id": "86f9e1aa",
      "metadata": {
        "id": "86f9e1aa"
      },
      "source": [
        "## Creating our image features extraction model"
      ]
    },
    {
      "cell_type": "code",
      "execution_count": 20,
      "id": "c2dbcae6",
      "metadata": {
        "colab": {
          "base_uri": "https://localhost:8080/",
          "height": 822
        },
        "id": "c2dbcae6",
        "outputId": "adf0afae-4535-4b82-b46c-ef2c8e8071e1"
      },
      "outputs": [
        {
          "output_type": "stream",
          "name": "stdout",
          "text": [
            "Downloading data from https://storage.googleapis.com/tensorflow/keras-applications/vgg16/vgg16_weights_tf_dim_ordering_tf_kernels_notop.h5\n",
            "\u001b[1m58889256/58889256\u001b[0m \u001b[32m━━━━━━━━━━━━━━━━━━━━\u001b[0m\u001b[37m\u001b[0m \u001b[1m3s\u001b[0m 0us/step\n"
          ]
        },
        {
          "output_type": "display_data",
          "data": {
            "text/plain": [
              "\u001b[1mModel: \"functional\"\u001b[0m\n"
            ],
            "text/html": [
              "<pre style=\"white-space:pre;overflow-x:auto;line-height:normal;font-family:Menlo,'DejaVu Sans Mono',consolas,'Courier New',monospace\"><span style=\"font-weight: bold\">Model: \"functional\"</span>\n",
              "</pre>\n"
            ]
          },
          "metadata": {}
        },
        {
          "output_type": "display_data",
          "data": {
            "text/plain": [
              "┏━━━━━━━━━━━━━━━━━━━━━━━━━━━━━━━━━━━━━━┳━━━━━━━━━━━━━━━━━━━━━━━━━━━━━┳━━━━━━━━━━━━━━━━━┓\n",
              "┃\u001b[1m \u001b[0m\u001b[1mLayer (type)                        \u001b[0m\u001b[1m \u001b[0m┃\u001b[1m \u001b[0m\u001b[1mOutput Shape               \u001b[0m\u001b[1m \u001b[0m┃\u001b[1m \u001b[0m\u001b[1m        Param #\u001b[0m\u001b[1m \u001b[0m┃\n",
              "┡━━━━━━━━━━━━━━━━━━━━━━━━━━━━━━━━━━━━━━╇━━━━━━━━━━━━━━━━━━━━━━━━━━━━━╇━━━━━━━━━━━━━━━━━┩\n",
              "│ input_layer (\u001b[38;5;33mInputLayer\u001b[0m)             │ (\u001b[38;5;45mNone\u001b[0m, \u001b[38;5;45mNone\u001b[0m, \u001b[38;5;45mNone\u001b[0m, \u001b[38;5;34m3\u001b[0m)       │               \u001b[38;5;34m0\u001b[0m │\n",
              "├──────────────────────────────────────┼─────────────────────────────┼─────────────────┤\n",
              "│ block1_conv1 (\u001b[38;5;33mConv2D\u001b[0m)                │ (\u001b[38;5;45mNone\u001b[0m, \u001b[38;5;45mNone\u001b[0m, \u001b[38;5;45mNone\u001b[0m, \u001b[38;5;34m64\u001b[0m)      │           \u001b[38;5;34m1,792\u001b[0m │\n",
              "├──────────────────────────────────────┼─────────────────────────────┼─────────────────┤\n",
              "│ block1_conv2 (\u001b[38;5;33mConv2D\u001b[0m)                │ (\u001b[38;5;45mNone\u001b[0m, \u001b[38;5;45mNone\u001b[0m, \u001b[38;5;45mNone\u001b[0m, \u001b[38;5;34m64\u001b[0m)      │          \u001b[38;5;34m36,928\u001b[0m │\n",
              "├──────────────────────────────────────┼─────────────────────────────┼─────────────────┤\n",
              "│ block1_pool (\u001b[38;5;33mMaxPooling2D\u001b[0m)           │ (\u001b[38;5;45mNone\u001b[0m, \u001b[38;5;45mNone\u001b[0m, \u001b[38;5;45mNone\u001b[0m, \u001b[38;5;34m64\u001b[0m)      │               \u001b[38;5;34m0\u001b[0m │\n",
              "├──────────────────────────────────────┼─────────────────────────────┼─────────────────┤\n",
              "│ block2_conv1 (\u001b[38;5;33mConv2D\u001b[0m)                │ (\u001b[38;5;45mNone\u001b[0m, \u001b[38;5;45mNone\u001b[0m, \u001b[38;5;45mNone\u001b[0m, \u001b[38;5;34m128\u001b[0m)     │          \u001b[38;5;34m73,856\u001b[0m │\n",
              "├──────────────────────────────────────┼─────────────────────────────┼─────────────────┤\n",
              "│ block2_conv2 (\u001b[38;5;33mConv2D\u001b[0m)                │ (\u001b[38;5;45mNone\u001b[0m, \u001b[38;5;45mNone\u001b[0m, \u001b[38;5;45mNone\u001b[0m, \u001b[38;5;34m128\u001b[0m)     │         \u001b[38;5;34m147,584\u001b[0m │\n",
              "├──────────────────────────────────────┼─────────────────────────────┼─────────────────┤\n",
              "│ block2_pool (\u001b[38;5;33mMaxPooling2D\u001b[0m)           │ (\u001b[38;5;45mNone\u001b[0m, \u001b[38;5;45mNone\u001b[0m, \u001b[38;5;45mNone\u001b[0m, \u001b[38;5;34m128\u001b[0m)     │               \u001b[38;5;34m0\u001b[0m │\n",
              "├──────────────────────────────────────┼─────────────────────────────┼─────────────────┤\n",
              "│ block3_conv1 (\u001b[38;5;33mConv2D\u001b[0m)                │ (\u001b[38;5;45mNone\u001b[0m, \u001b[38;5;45mNone\u001b[0m, \u001b[38;5;45mNone\u001b[0m, \u001b[38;5;34m256\u001b[0m)     │         \u001b[38;5;34m295,168\u001b[0m │\n",
              "├──────────────────────────────────────┼─────────────────────────────┼─────────────────┤\n",
              "│ block3_conv2 (\u001b[38;5;33mConv2D\u001b[0m)                │ (\u001b[38;5;45mNone\u001b[0m, \u001b[38;5;45mNone\u001b[0m, \u001b[38;5;45mNone\u001b[0m, \u001b[38;5;34m256\u001b[0m)     │         \u001b[38;5;34m590,080\u001b[0m │\n",
              "├──────────────────────────────────────┼─────────────────────────────┼─────────────────┤\n",
              "│ block3_conv3 (\u001b[38;5;33mConv2D\u001b[0m)                │ (\u001b[38;5;45mNone\u001b[0m, \u001b[38;5;45mNone\u001b[0m, \u001b[38;5;45mNone\u001b[0m, \u001b[38;5;34m256\u001b[0m)     │         \u001b[38;5;34m590,080\u001b[0m │\n",
              "├──────────────────────────────────────┼─────────────────────────────┼─────────────────┤\n",
              "│ block3_pool (\u001b[38;5;33mMaxPooling2D\u001b[0m)           │ (\u001b[38;5;45mNone\u001b[0m, \u001b[38;5;45mNone\u001b[0m, \u001b[38;5;45mNone\u001b[0m, \u001b[38;5;34m256\u001b[0m)     │               \u001b[38;5;34m0\u001b[0m │\n",
              "├──────────────────────────────────────┼─────────────────────────────┼─────────────────┤\n",
              "│ block4_conv1 (\u001b[38;5;33mConv2D\u001b[0m)                │ (\u001b[38;5;45mNone\u001b[0m, \u001b[38;5;45mNone\u001b[0m, \u001b[38;5;45mNone\u001b[0m, \u001b[38;5;34m512\u001b[0m)     │       \u001b[38;5;34m1,180,160\u001b[0m │\n",
              "├──────────────────────────────────────┼─────────────────────────────┼─────────────────┤\n",
              "│ block4_conv2 (\u001b[38;5;33mConv2D\u001b[0m)                │ (\u001b[38;5;45mNone\u001b[0m, \u001b[38;5;45mNone\u001b[0m, \u001b[38;5;45mNone\u001b[0m, \u001b[38;5;34m512\u001b[0m)     │       \u001b[38;5;34m2,359,808\u001b[0m │\n",
              "├──────────────────────────────────────┼─────────────────────────────┼─────────────────┤\n",
              "│ block4_conv3 (\u001b[38;5;33mConv2D\u001b[0m)                │ (\u001b[38;5;45mNone\u001b[0m, \u001b[38;5;45mNone\u001b[0m, \u001b[38;5;45mNone\u001b[0m, \u001b[38;5;34m512\u001b[0m)     │       \u001b[38;5;34m2,359,808\u001b[0m │\n",
              "├──────────────────────────────────────┼─────────────────────────────┼─────────────────┤\n",
              "│ block4_pool (\u001b[38;5;33mMaxPooling2D\u001b[0m)           │ (\u001b[38;5;45mNone\u001b[0m, \u001b[38;5;45mNone\u001b[0m, \u001b[38;5;45mNone\u001b[0m, \u001b[38;5;34m512\u001b[0m)     │               \u001b[38;5;34m0\u001b[0m │\n",
              "├──────────────────────────────────────┼─────────────────────────────┼─────────────────┤\n",
              "│ block5_conv1 (\u001b[38;5;33mConv2D\u001b[0m)                │ (\u001b[38;5;45mNone\u001b[0m, \u001b[38;5;45mNone\u001b[0m, \u001b[38;5;45mNone\u001b[0m, \u001b[38;5;34m512\u001b[0m)     │       \u001b[38;5;34m2,359,808\u001b[0m │\n",
              "├──────────────────────────────────────┼─────────────────────────────┼─────────────────┤\n",
              "│ block5_conv2 (\u001b[38;5;33mConv2D\u001b[0m)                │ (\u001b[38;5;45mNone\u001b[0m, \u001b[38;5;45mNone\u001b[0m, \u001b[38;5;45mNone\u001b[0m, \u001b[38;5;34m512\u001b[0m)     │       \u001b[38;5;34m2,359,808\u001b[0m │\n",
              "├──────────────────────────────────────┼─────────────────────────────┼─────────────────┤\n",
              "│ block5_conv3 (\u001b[38;5;33mConv2D\u001b[0m)                │ (\u001b[38;5;45mNone\u001b[0m, \u001b[38;5;45mNone\u001b[0m, \u001b[38;5;45mNone\u001b[0m, \u001b[38;5;34m512\u001b[0m)     │       \u001b[38;5;34m2,359,808\u001b[0m │\n",
              "├──────────────────────────────────────┼─────────────────────────────┼─────────────────┤\n",
              "│ block5_pool (\u001b[38;5;33mMaxPooling2D\u001b[0m)           │ (\u001b[38;5;45mNone\u001b[0m, \u001b[38;5;45mNone\u001b[0m, \u001b[38;5;45mNone\u001b[0m, \u001b[38;5;34m512\u001b[0m)     │               \u001b[38;5;34m0\u001b[0m │\n",
              "└──────────────────────────────────────┴─────────────────────────────┴─────────────────┘\n"
            ],
            "text/html": [
              "<pre style=\"white-space:pre;overflow-x:auto;line-height:normal;font-family:Menlo,'DejaVu Sans Mono',consolas,'Courier New',monospace\">┏━━━━━━━━━━━━━━━━━━━━━━━━━━━━━━━━━━━━━━┳━━━━━━━━━━━━━━━━━━━━━━━━━━━━━┳━━━━━━━━━━━━━━━━━┓\n",
              "┃<span style=\"font-weight: bold\"> Layer (type)                         </span>┃<span style=\"font-weight: bold\"> Output Shape                </span>┃<span style=\"font-weight: bold\">         Param # </span>┃\n",
              "┡━━━━━━━━━━━━━━━━━━━━━━━━━━━━━━━━━━━━━━╇━━━━━━━━━━━━━━━━━━━━━━━━━━━━━╇━━━━━━━━━━━━━━━━━┩\n",
              "│ input_layer (<span style=\"color: #0087ff; text-decoration-color: #0087ff\">InputLayer</span>)             │ (<span style=\"color: #00d7ff; text-decoration-color: #00d7ff\">None</span>, <span style=\"color: #00d7ff; text-decoration-color: #00d7ff\">None</span>, <span style=\"color: #00d7ff; text-decoration-color: #00d7ff\">None</span>, <span style=\"color: #00af00; text-decoration-color: #00af00\">3</span>)       │               <span style=\"color: #00af00; text-decoration-color: #00af00\">0</span> │\n",
              "├──────────────────────────────────────┼─────────────────────────────┼─────────────────┤\n",
              "│ block1_conv1 (<span style=\"color: #0087ff; text-decoration-color: #0087ff\">Conv2D</span>)                │ (<span style=\"color: #00d7ff; text-decoration-color: #00d7ff\">None</span>, <span style=\"color: #00d7ff; text-decoration-color: #00d7ff\">None</span>, <span style=\"color: #00d7ff; text-decoration-color: #00d7ff\">None</span>, <span style=\"color: #00af00; text-decoration-color: #00af00\">64</span>)      │           <span style=\"color: #00af00; text-decoration-color: #00af00\">1,792</span> │\n",
              "├──────────────────────────────────────┼─────────────────────────────┼─────────────────┤\n",
              "│ block1_conv2 (<span style=\"color: #0087ff; text-decoration-color: #0087ff\">Conv2D</span>)                │ (<span style=\"color: #00d7ff; text-decoration-color: #00d7ff\">None</span>, <span style=\"color: #00d7ff; text-decoration-color: #00d7ff\">None</span>, <span style=\"color: #00d7ff; text-decoration-color: #00d7ff\">None</span>, <span style=\"color: #00af00; text-decoration-color: #00af00\">64</span>)      │          <span style=\"color: #00af00; text-decoration-color: #00af00\">36,928</span> │\n",
              "├──────────────────────────────────────┼─────────────────────────────┼─────────────────┤\n",
              "│ block1_pool (<span style=\"color: #0087ff; text-decoration-color: #0087ff\">MaxPooling2D</span>)           │ (<span style=\"color: #00d7ff; text-decoration-color: #00d7ff\">None</span>, <span style=\"color: #00d7ff; text-decoration-color: #00d7ff\">None</span>, <span style=\"color: #00d7ff; text-decoration-color: #00d7ff\">None</span>, <span style=\"color: #00af00; text-decoration-color: #00af00\">64</span>)      │               <span style=\"color: #00af00; text-decoration-color: #00af00\">0</span> │\n",
              "├──────────────────────────────────────┼─────────────────────────────┼─────────────────┤\n",
              "│ block2_conv1 (<span style=\"color: #0087ff; text-decoration-color: #0087ff\">Conv2D</span>)                │ (<span style=\"color: #00d7ff; text-decoration-color: #00d7ff\">None</span>, <span style=\"color: #00d7ff; text-decoration-color: #00d7ff\">None</span>, <span style=\"color: #00d7ff; text-decoration-color: #00d7ff\">None</span>, <span style=\"color: #00af00; text-decoration-color: #00af00\">128</span>)     │          <span style=\"color: #00af00; text-decoration-color: #00af00\">73,856</span> │\n",
              "├──────────────────────────────────────┼─────────────────────────────┼─────────────────┤\n",
              "│ block2_conv2 (<span style=\"color: #0087ff; text-decoration-color: #0087ff\">Conv2D</span>)                │ (<span style=\"color: #00d7ff; text-decoration-color: #00d7ff\">None</span>, <span style=\"color: #00d7ff; text-decoration-color: #00d7ff\">None</span>, <span style=\"color: #00d7ff; text-decoration-color: #00d7ff\">None</span>, <span style=\"color: #00af00; text-decoration-color: #00af00\">128</span>)     │         <span style=\"color: #00af00; text-decoration-color: #00af00\">147,584</span> │\n",
              "├──────────────────────────────────────┼─────────────────────────────┼─────────────────┤\n",
              "│ block2_pool (<span style=\"color: #0087ff; text-decoration-color: #0087ff\">MaxPooling2D</span>)           │ (<span style=\"color: #00d7ff; text-decoration-color: #00d7ff\">None</span>, <span style=\"color: #00d7ff; text-decoration-color: #00d7ff\">None</span>, <span style=\"color: #00d7ff; text-decoration-color: #00d7ff\">None</span>, <span style=\"color: #00af00; text-decoration-color: #00af00\">128</span>)     │               <span style=\"color: #00af00; text-decoration-color: #00af00\">0</span> │\n",
              "├──────────────────────────────────────┼─────────────────────────────┼─────────────────┤\n",
              "│ block3_conv1 (<span style=\"color: #0087ff; text-decoration-color: #0087ff\">Conv2D</span>)                │ (<span style=\"color: #00d7ff; text-decoration-color: #00d7ff\">None</span>, <span style=\"color: #00d7ff; text-decoration-color: #00d7ff\">None</span>, <span style=\"color: #00d7ff; text-decoration-color: #00d7ff\">None</span>, <span style=\"color: #00af00; text-decoration-color: #00af00\">256</span>)     │         <span style=\"color: #00af00; text-decoration-color: #00af00\">295,168</span> │\n",
              "├──────────────────────────────────────┼─────────────────────────────┼─────────────────┤\n",
              "│ block3_conv2 (<span style=\"color: #0087ff; text-decoration-color: #0087ff\">Conv2D</span>)                │ (<span style=\"color: #00d7ff; text-decoration-color: #00d7ff\">None</span>, <span style=\"color: #00d7ff; text-decoration-color: #00d7ff\">None</span>, <span style=\"color: #00d7ff; text-decoration-color: #00d7ff\">None</span>, <span style=\"color: #00af00; text-decoration-color: #00af00\">256</span>)     │         <span style=\"color: #00af00; text-decoration-color: #00af00\">590,080</span> │\n",
              "├──────────────────────────────────────┼─────────────────────────────┼─────────────────┤\n",
              "│ block3_conv3 (<span style=\"color: #0087ff; text-decoration-color: #0087ff\">Conv2D</span>)                │ (<span style=\"color: #00d7ff; text-decoration-color: #00d7ff\">None</span>, <span style=\"color: #00d7ff; text-decoration-color: #00d7ff\">None</span>, <span style=\"color: #00d7ff; text-decoration-color: #00d7ff\">None</span>, <span style=\"color: #00af00; text-decoration-color: #00af00\">256</span>)     │         <span style=\"color: #00af00; text-decoration-color: #00af00\">590,080</span> │\n",
              "├──────────────────────────────────────┼─────────────────────────────┼─────────────────┤\n",
              "│ block3_pool (<span style=\"color: #0087ff; text-decoration-color: #0087ff\">MaxPooling2D</span>)           │ (<span style=\"color: #00d7ff; text-decoration-color: #00d7ff\">None</span>, <span style=\"color: #00d7ff; text-decoration-color: #00d7ff\">None</span>, <span style=\"color: #00d7ff; text-decoration-color: #00d7ff\">None</span>, <span style=\"color: #00af00; text-decoration-color: #00af00\">256</span>)     │               <span style=\"color: #00af00; text-decoration-color: #00af00\">0</span> │\n",
              "├──────────────────────────────────────┼─────────────────────────────┼─────────────────┤\n",
              "│ block4_conv1 (<span style=\"color: #0087ff; text-decoration-color: #0087ff\">Conv2D</span>)                │ (<span style=\"color: #00d7ff; text-decoration-color: #00d7ff\">None</span>, <span style=\"color: #00d7ff; text-decoration-color: #00d7ff\">None</span>, <span style=\"color: #00d7ff; text-decoration-color: #00d7ff\">None</span>, <span style=\"color: #00af00; text-decoration-color: #00af00\">512</span>)     │       <span style=\"color: #00af00; text-decoration-color: #00af00\">1,180,160</span> │\n",
              "├──────────────────────────────────────┼─────────────────────────────┼─────────────────┤\n",
              "│ block4_conv2 (<span style=\"color: #0087ff; text-decoration-color: #0087ff\">Conv2D</span>)                │ (<span style=\"color: #00d7ff; text-decoration-color: #00d7ff\">None</span>, <span style=\"color: #00d7ff; text-decoration-color: #00d7ff\">None</span>, <span style=\"color: #00d7ff; text-decoration-color: #00d7ff\">None</span>, <span style=\"color: #00af00; text-decoration-color: #00af00\">512</span>)     │       <span style=\"color: #00af00; text-decoration-color: #00af00\">2,359,808</span> │\n",
              "├──────────────────────────────────────┼─────────────────────────────┼─────────────────┤\n",
              "│ block4_conv3 (<span style=\"color: #0087ff; text-decoration-color: #0087ff\">Conv2D</span>)                │ (<span style=\"color: #00d7ff; text-decoration-color: #00d7ff\">None</span>, <span style=\"color: #00d7ff; text-decoration-color: #00d7ff\">None</span>, <span style=\"color: #00d7ff; text-decoration-color: #00d7ff\">None</span>, <span style=\"color: #00af00; text-decoration-color: #00af00\">512</span>)     │       <span style=\"color: #00af00; text-decoration-color: #00af00\">2,359,808</span> │\n",
              "├──────────────────────────────────────┼─────────────────────────────┼─────────────────┤\n",
              "│ block4_pool (<span style=\"color: #0087ff; text-decoration-color: #0087ff\">MaxPooling2D</span>)           │ (<span style=\"color: #00d7ff; text-decoration-color: #00d7ff\">None</span>, <span style=\"color: #00d7ff; text-decoration-color: #00d7ff\">None</span>, <span style=\"color: #00d7ff; text-decoration-color: #00d7ff\">None</span>, <span style=\"color: #00af00; text-decoration-color: #00af00\">512</span>)     │               <span style=\"color: #00af00; text-decoration-color: #00af00\">0</span> │\n",
              "├──────────────────────────────────────┼─────────────────────────────┼─────────────────┤\n",
              "│ block5_conv1 (<span style=\"color: #0087ff; text-decoration-color: #0087ff\">Conv2D</span>)                │ (<span style=\"color: #00d7ff; text-decoration-color: #00d7ff\">None</span>, <span style=\"color: #00d7ff; text-decoration-color: #00d7ff\">None</span>, <span style=\"color: #00d7ff; text-decoration-color: #00d7ff\">None</span>, <span style=\"color: #00af00; text-decoration-color: #00af00\">512</span>)     │       <span style=\"color: #00af00; text-decoration-color: #00af00\">2,359,808</span> │\n",
              "├──────────────────────────────────────┼─────────────────────────────┼─────────────────┤\n",
              "│ block5_conv2 (<span style=\"color: #0087ff; text-decoration-color: #0087ff\">Conv2D</span>)                │ (<span style=\"color: #00d7ff; text-decoration-color: #00d7ff\">None</span>, <span style=\"color: #00d7ff; text-decoration-color: #00d7ff\">None</span>, <span style=\"color: #00d7ff; text-decoration-color: #00d7ff\">None</span>, <span style=\"color: #00af00; text-decoration-color: #00af00\">512</span>)     │       <span style=\"color: #00af00; text-decoration-color: #00af00\">2,359,808</span> │\n",
              "├──────────────────────────────────────┼─────────────────────────────┼─────────────────┤\n",
              "│ block5_conv3 (<span style=\"color: #0087ff; text-decoration-color: #0087ff\">Conv2D</span>)                │ (<span style=\"color: #00d7ff; text-decoration-color: #00d7ff\">None</span>, <span style=\"color: #00d7ff; text-decoration-color: #00d7ff\">None</span>, <span style=\"color: #00d7ff; text-decoration-color: #00d7ff\">None</span>, <span style=\"color: #00af00; text-decoration-color: #00af00\">512</span>)     │       <span style=\"color: #00af00; text-decoration-color: #00af00\">2,359,808</span> │\n",
              "├──────────────────────────────────────┼─────────────────────────────┼─────────────────┤\n",
              "│ block5_pool (<span style=\"color: #0087ff; text-decoration-color: #0087ff\">MaxPooling2D</span>)           │ (<span style=\"color: #00d7ff; text-decoration-color: #00d7ff\">None</span>, <span style=\"color: #00d7ff; text-decoration-color: #00d7ff\">None</span>, <span style=\"color: #00d7ff; text-decoration-color: #00d7ff\">None</span>, <span style=\"color: #00af00; text-decoration-color: #00af00\">512</span>)     │               <span style=\"color: #00af00; text-decoration-color: #00af00\">0</span> │\n",
              "└──────────────────────────────────────┴─────────────────────────────┴─────────────────┘\n",
              "</pre>\n"
            ]
          },
          "metadata": {}
        },
        {
          "output_type": "display_data",
          "data": {
            "text/plain": [
              "\u001b[1m Total params: \u001b[0m\u001b[38;5;34m14,714,688\u001b[0m (56.13 MB)\n"
            ],
            "text/html": [
              "<pre style=\"white-space:pre;overflow-x:auto;line-height:normal;font-family:Menlo,'DejaVu Sans Mono',consolas,'Courier New',monospace\"><span style=\"font-weight: bold\"> Total params: </span><span style=\"color: #00af00; text-decoration-color: #00af00\">14,714,688</span> (56.13 MB)\n",
              "</pre>\n"
            ]
          },
          "metadata": {}
        },
        {
          "output_type": "display_data",
          "data": {
            "text/plain": [
              "\u001b[1m Trainable params: \u001b[0m\u001b[38;5;34m14,714,688\u001b[0m (56.13 MB)\n"
            ],
            "text/html": [
              "<pre style=\"white-space:pre;overflow-x:auto;line-height:normal;font-family:Menlo,'DejaVu Sans Mono',consolas,'Courier New',monospace\"><span style=\"font-weight: bold\"> Trainable params: </span><span style=\"color: #00af00; text-decoration-color: #00af00\">14,714,688</span> (56.13 MB)\n",
              "</pre>\n"
            ]
          },
          "metadata": {}
        },
        {
          "output_type": "display_data",
          "data": {
            "text/plain": [
              "\u001b[1m Non-trainable params: \u001b[0m\u001b[38;5;34m0\u001b[0m (0.00 B)\n"
            ],
            "text/html": [
              "<pre style=\"white-space:pre;overflow-x:auto;line-height:normal;font-family:Menlo,'DejaVu Sans Mono',consolas,'Courier New',monospace\"><span style=\"font-weight: bold\"> Non-trainable params: </span><span style=\"color: #00af00; text-decoration-color: #00af00\">0</span> (0.00 B)\n",
              "</pre>\n"
            ]
          },
          "metadata": {}
        },
        {
          "output_type": "stream",
          "name": "stdout",
          "text": [
            "None\n"
          ]
        }
      ],
      "source": [
        "image_features_extract_model = cnn_model()"
      ]
    },
    {
      "cell_type": "markdown",
      "id": "24df3685",
      "metadata": {
        "id": "24df3685"
      },
      "source": [
        "## Extracting features and saving it in the same dir"
      ]
    },
    {
      "cell_type": "code",
      "execution_count": 21,
      "id": "d4415242",
      "metadata": {
        "colab": {
          "base_uri": "https://localhost:8080/"
        },
        "id": "d4415242",
        "outputId": "e556c9f7-c386-44b9-f22a-bbcb6c63c198"
      },
      "outputs": [
        {
          "name": "stdout",
          "output_type": "stream",
          "text": [
            "Do you want to extract the features of the images[y/Y]: y\n"
          ]
        },
        {
          "output_type": "stream",
          "name": "stderr",
          "text": [
            "100%|██████████| 60/60 [01:21<00:00,  1.37s/it]\n"
          ]
        }
      ],
      "source": [
        "if str(input(\"Do you want to extract the features of the images[y/Y]: \")).casefold() == 'y':\n",
        "    for img, path in tqdm(image_train_dataset):\n",
        "        batch_features = image_features_extract_model(img)\n",
        "        batch_features = tf.reshape(batch_features, (batch_features.shape[0], -1, batch_features.shape[3]))\n",
        "        for bf, p in zip(batch_features, path):\n",
        "            path_of_feature = p.numpy().decode(\"utf-8\")\n",
        "            np.save(path_of_feature, bf.numpy())"
      ]
    },
    {
      "cell_type": "code",
      "source": [
        "from google.colab import drive\n",
        "drive.mount('/content/drive')"
      ],
      "metadata": {
        "colab": {
          "base_uri": "https://localhost:8080/",
          "height": 304
        },
        "id": "wT2tppy8UthX",
        "outputId": "d9d2916b-414d-437d-ef0a-c4c4f0ecd3fc"
      },
      "id": "wT2tppy8UthX",
      "execution_count": 22,
      "outputs": [
        {
          "output_type": "error",
          "ename": "MessageError",
          "evalue": "Error: credential propagation was unsuccessful",
          "traceback": [
            "\u001b[0;31m---------------------------------------------------------------------------\u001b[0m",
            "\u001b[0;31mMessageError\u001b[0m                              Traceback (most recent call last)",
            "\u001b[0;32m<ipython-input-22-d5df0069828e>\u001b[0m in \u001b[0;36m<cell line: 0>\u001b[0;34m()\u001b[0m\n\u001b[1;32m      1\u001b[0m \u001b[0;32mfrom\u001b[0m \u001b[0mgoogle\u001b[0m\u001b[0;34m.\u001b[0m\u001b[0mcolab\u001b[0m \u001b[0;32mimport\u001b[0m \u001b[0mdrive\u001b[0m\u001b[0;34m\u001b[0m\u001b[0;34m\u001b[0m\u001b[0m\n\u001b[0;32m----> 2\u001b[0;31m \u001b[0mdrive\u001b[0m\u001b[0;34m.\u001b[0m\u001b[0mmount\u001b[0m\u001b[0;34m(\u001b[0m\u001b[0;34m'/content/drive'\u001b[0m\u001b[0;34m)\u001b[0m\u001b[0;34m\u001b[0m\u001b[0;34m\u001b[0m\u001b[0m\n\u001b[0m",
            "\u001b[0;32m/usr/local/lib/python3.11/dist-packages/google/colab/drive.py\u001b[0m in \u001b[0;36mmount\u001b[0;34m(mountpoint, force_remount, timeout_ms, readonly)\u001b[0m\n\u001b[1;32m     98\u001b[0m \u001b[0;32mdef\u001b[0m \u001b[0mmount\u001b[0m\u001b[0;34m(\u001b[0m\u001b[0mmountpoint\u001b[0m\u001b[0;34m,\u001b[0m \u001b[0mforce_remount\u001b[0m\u001b[0;34m=\u001b[0m\u001b[0;32mFalse\u001b[0m\u001b[0;34m,\u001b[0m \u001b[0mtimeout_ms\u001b[0m\u001b[0;34m=\u001b[0m\u001b[0;36m120000\u001b[0m\u001b[0;34m,\u001b[0m \u001b[0mreadonly\u001b[0m\u001b[0;34m=\u001b[0m\u001b[0;32mFalse\u001b[0m\u001b[0;34m)\u001b[0m\u001b[0;34m:\u001b[0m\u001b[0;34m\u001b[0m\u001b[0;34m\u001b[0m\u001b[0m\n\u001b[1;32m     99\u001b[0m   \u001b[0;34m\"\"\"Mount your Google Drive at the specified mountpoint path.\"\"\"\u001b[0m\u001b[0;34m\u001b[0m\u001b[0;34m\u001b[0m\u001b[0m\n\u001b[0;32m--> 100\u001b[0;31m   return _mount(\n\u001b[0m\u001b[1;32m    101\u001b[0m       \u001b[0mmountpoint\u001b[0m\u001b[0;34m,\u001b[0m\u001b[0;34m\u001b[0m\u001b[0;34m\u001b[0m\u001b[0m\n\u001b[1;32m    102\u001b[0m       \u001b[0mforce_remount\u001b[0m\u001b[0;34m=\u001b[0m\u001b[0mforce_remount\u001b[0m\u001b[0;34m,\u001b[0m\u001b[0;34m\u001b[0m\u001b[0;34m\u001b[0m\u001b[0m\n",
            "\u001b[0;32m/usr/local/lib/python3.11/dist-packages/google/colab/drive.py\u001b[0m in \u001b[0;36m_mount\u001b[0;34m(mountpoint, force_remount, timeout_ms, ephemeral, readonly)\u001b[0m\n\u001b[1;32m    135\u001b[0m   )\n\u001b[1;32m    136\u001b[0m   \u001b[0;32mif\u001b[0m \u001b[0mephemeral\u001b[0m\u001b[0;34m:\u001b[0m\u001b[0;34m\u001b[0m\u001b[0;34m\u001b[0m\u001b[0m\n\u001b[0;32m--> 137\u001b[0;31m     _message.blocking_request(\n\u001b[0m\u001b[1;32m    138\u001b[0m         \u001b[0;34m'request_auth'\u001b[0m\u001b[0;34m,\u001b[0m\u001b[0;34m\u001b[0m\u001b[0;34m\u001b[0m\u001b[0m\n\u001b[1;32m    139\u001b[0m         \u001b[0mrequest\u001b[0m\u001b[0;34m=\u001b[0m\u001b[0;34m{\u001b[0m\u001b[0;34m'authType'\u001b[0m\u001b[0;34m:\u001b[0m \u001b[0;34m'dfs_ephemeral'\u001b[0m\u001b[0;34m}\u001b[0m\u001b[0;34m,\u001b[0m\u001b[0;34m\u001b[0m\u001b[0;34m\u001b[0m\u001b[0m\n",
            "\u001b[0;32m/usr/local/lib/python3.11/dist-packages/google/colab/_message.py\u001b[0m in \u001b[0;36mblocking_request\u001b[0;34m(request_type, request, timeout_sec, parent)\u001b[0m\n\u001b[1;32m    174\u001b[0m       \u001b[0mrequest_type\u001b[0m\u001b[0;34m,\u001b[0m \u001b[0mrequest\u001b[0m\u001b[0;34m,\u001b[0m \u001b[0mparent\u001b[0m\u001b[0;34m=\u001b[0m\u001b[0mparent\u001b[0m\u001b[0;34m,\u001b[0m \u001b[0mexpect_reply\u001b[0m\u001b[0;34m=\u001b[0m\u001b[0;32mTrue\u001b[0m\u001b[0;34m\u001b[0m\u001b[0;34m\u001b[0m\u001b[0m\n\u001b[1;32m    175\u001b[0m   )\n\u001b[0;32m--> 176\u001b[0;31m   \u001b[0;32mreturn\u001b[0m \u001b[0mread_reply_from_input\u001b[0m\u001b[0;34m(\u001b[0m\u001b[0mrequest_id\u001b[0m\u001b[0;34m,\u001b[0m \u001b[0mtimeout_sec\u001b[0m\u001b[0;34m)\u001b[0m\u001b[0;34m\u001b[0m\u001b[0;34m\u001b[0m\u001b[0m\n\u001b[0m",
            "\u001b[0;32m/usr/local/lib/python3.11/dist-packages/google/colab/_message.py\u001b[0m in \u001b[0;36mread_reply_from_input\u001b[0;34m(message_id, timeout_sec)\u001b[0m\n\u001b[1;32m    101\u001b[0m     ):\n\u001b[1;32m    102\u001b[0m       \u001b[0;32mif\u001b[0m \u001b[0;34m'error'\u001b[0m \u001b[0;32min\u001b[0m \u001b[0mreply\u001b[0m\u001b[0;34m:\u001b[0m\u001b[0;34m\u001b[0m\u001b[0;34m\u001b[0m\u001b[0m\n\u001b[0;32m--> 103\u001b[0;31m         \u001b[0;32mraise\u001b[0m \u001b[0mMessageError\u001b[0m\u001b[0;34m(\u001b[0m\u001b[0mreply\u001b[0m\u001b[0;34m[\u001b[0m\u001b[0;34m'error'\u001b[0m\u001b[0;34m]\u001b[0m\u001b[0;34m)\u001b[0m\u001b[0;34m\u001b[0m\u001b[0;34m\u001b[0m\u001b[0m\n\u001b[0m\u001b[1;32m    104\u001b[0m       \u001b[0;32mreturn\u001b[0m \u001b[0mreply\u001b[0m\u001b[0;34m.\u001b[0m\u001b[0mget\u001b[0m\u001b[0;34m(\u001b[0m\u001b[0;34m'data'\u001b[0m\u001b[0;34m,\u001b[0m \u001b[0;32mNone\u001b[0m\u001b[0;34m)\u001b[0m\u001b[0;34m\u001b[0m\u001b[0;34m\u001b[0m\u001b[0m\n\u001b[1;32m    105\u001b[0m \u001b[0;34m\u001b[0m\u001b[0m\n",
            "\u001b[0;31mMessageError\u001b[0m: Error: credential propagation was unsuccessful"
          ]
        }
      ]
    },
    {
      "cell_type": "markdown",
      "id": "2e606133",
      "metadata": {
        "id": "2e606133"
      },
      "source": [
        "## Loading the test images"
      ]
    },
    {
      "cell_type": "code",
      "execution_count": 23,
      "id": "9eecc0fd",
      "metadata": {
        "colab": {
          "base_uri": "https://localhost:8080/",
          "height": 35
        },
        "id": "9eecc0fd",
        "outputId": "6a331200-5d9e-49d1-e79c-f4ec60df9f29"
      },
      "outputs": [
        {
          "output_type": "execute_result",
          "data": {
            "text/plain": [
              "'/content/flickr8k/Flickr_8k.testImages.txt'"
            ],
            "application/vnd.google.colaboratory.intrinsic+json": {
              "type": "string"
            }
          },
          "metadata": {},
          "execution_count": 23
        }
      ],
      "source": [
        "TEST_TXT_PATH"
      ]
    },
    {
      "cell_type": "code",
      "execution_count": 24,
      "id": "9dc940ab",
      "metadata": {
        "id": "9dc940ab"
      },
      "outputs": [],
      "source": [
        "image_test_dataset = load_img_dataset(TEST_TXT_PATH)"
      ]
    },
    {
      "cell_type": "markdown",
      "id": "27a77023",
      "metadata": {
        "id": "27a77023"
      },
      "source": [
        "## Extracting features and saving it in the same dir"
      ]
    },
    {
      "cell_type": "code",
      "execution_count": 25,
      "id": "391f14ed",
      "metadata": {
        "id": "391f14ed",
        "colab": {
          "base_uri": "https://localhost:8080/"
        },
        "outputId": "83894ea5-a376-488e-dbf8-3739d2e5d6a7"
      },
      "outputs": [
        {
          "name": "stdout",
          "output_type": "stream",
          "text": [
            "Do you want to extract the features of the images[y/Y]: n\n"
          ]
        }
      ],
      "source": [
        "if str(input(\"Do you want to extract the features of the images[y/Y]: \")).casefold() == 'y':\n",
        "    for img, path in tqdm(image_train_dataset):\n",
        "        batch_features = image_features_extract_model(img)\n",
        "        batch_features = tf.reshape(batch_features, (batch_features.shape[0], -1, batch_features.shape[3]))\n",
        "        for bf, p in zip(batch_features, path):\n",
        "            path_of_feature = p.numpy().decode(\"utf-8\")\n",
        "            np.save(path_of_feature, bf.numpy())\n"
      ]
    },
    {
      "cell_type": "markdown",
      "id": "11c5861e",
      "metadata": {
        "id": "11c5861e"
      },
      "source": [
        "# Word/Sentence preprocessing"
      ]
    },
    {
      "cell_type": "markdown",
      "id": "c4dc7b33",
      "metadata": {
        "id": "c4dc7b33"
      },
      "source": [
        "## Helper functions"
      ]
    },
    {
      "cell_type": "code",
      "execution_count": 26,
      "id": "1b2a614a",
      "metadata": {
        "id": "1b2a614a"
      },
      "outputs": [],
      "source": [
        "def clean_cap(caption: str) -> str:\n",
        "    cap = ''.join([ch for ch in caption if ch not in string.punctuation])\n",
        "    cap = cap.split()\n",
        "    cap = [word.casefold() for word in cap]\n",
        "    cap = [word for word in cap if len(word) > 1]\n",
        "    cap = [word for word in cap if word.isalpha()]\n",
        "    lemmatizer = nltk.WordNetLemmatizer()\n",
        "    cap = [lemmatizer.lemmatize(word) for word in cap]\n",
        "    return ' '.join(cap)"
      ]
    },
    {
      "cell_type": "code",
      "execution_count": 27,
      "id": "bd6de9da",
      "metadata": {
        "id": "bd6de9da"
      },
      "outputs": [],
      "source": [
        "def load_cap(caption_txt_path: str) -> dict:\n",
        "    with open(caption_txt_path, 'r', encoding='utf-8') as caption_txt:\n",
        "        captions_list = caption_txt.readlines()\n",
        "    mapping = dict()\n",
        "    for line in captions_list:\n",
        "        caption = line.split('\\t')\n",
        "        image_name = caption[0][:-2].split('.')[0]\n",
        "        image_caption = clean_cap(caption[-1][:-1])\n",
        "        image_caption = 'startofseq ' + image_caption + ' endofseq'\n",
        "        if image_name in mapping:\n",
        "            mapping[image_name].append(image_caption)\n",
        "        else:\n",
        "            mapping[image_name] = [image_caption]\n",
        "    return mapping\n"
      ]
    },
    {
      "cell_type": "code",
      "execution_count": 28,
      "id": "e079f545",
      "metadata": {
        "id": "e079f545"
      },
      "outputs": [],
      "source": [
        "def save_captions(mapping: dict, filename: str) -> bool:\n",
        "    lines = [key + ' ' + cap for key, cap_list in mapping.items() for cap in cap_list]\n",
        "    with open(filename, 'w') as file:\n",
        "        file.write('\\n'.join(lines))\n",
        "    return True\n"
      ]
    },
    {
      "cell_type": "code",
      "execution_count": 29,
      "id": "12dc08bf",
      "metadata": {
        "id": "12dc08bf"
      },
      "outputs": [],
      "source": [
        "def load_doc(filename: str) -> str:\n",
        "    with open(filename, 'r', encoding='utf-8') as file:\n",
        "        text = file.read()\n",
        "    return text"
      ]
    },
    {
      "cell_type": "code",
      "execution_count": 30,
      "id": "82e61657",
      "metadata": {
        "id": "82e61657"
      },
      "outputs": [],
      "source": [
        "def load_set(text_file_path: str) -> set:\n",
        "    doc = load_doc(text_file_path)\n",
        "    dataset = list()\n",
        "    for line in doc.split('\\n'):\n",
        "        if len(line) < 1:\n",
        "            continue\n",
        "        identifier = line.split('.')[0]\n",
        "        dataset.append(identifier)\n",
        "    return set(dataset)"
      ]
    },
    {
      "cell_type": "code",
      "execution_count": 31,
      "id": "cc4dc247",
      "metadata": {
        "id": "cc4dc247"
      },
      "outputs": [],
      "source": [
        "def load_clean_cap(caption_txt_path: str, dataset: set) -> dict:\n",
        "    doc = load_doc(caption_txt_path)\n",
        "    clean_captions = dict()\n",
        "    for line in doc.split('\\n'):\n",
        "        tokens = line.split()\n",
        "        image_name, image_cap = tokens[0], \" \".join(tokens[1:])\n",
        "        if image_name in dataset:\n",
        "            if image_name not in clean_captions:\n",
        "                clean_captions[image_name] = list()\n",
        "            clean_captions[image_name].append(image_cap)\n",
        "    return clean_captions\n"
      ]
    },
    {
      "cell_type": "code",
      "execution_count": 32,
      "id": "2abbfc23",
      "metadata": {
        "id": "2abbfc23"
      },
      "outputs": [],
      "source": [
        "def max_len(clean_captions: dict) -> int:\n",
        "    clean_captions_list = [caption.split() for captions in clean_captions.values()\n",
        "                           for caption in captions]\n",
        "    return max(len(caption) for caption in clean_captions_list)"
      ]
    },
    {
      "cell_type": "code",
      "execution_count": 33,
      "id": "02bd0dad",
      "metadata": {
        "id": "02bd0dad"
      },
      "outputs": [],
      "source": [
        "def create_tokenizer(captions_dict: dict, top_k: int = 2000) -> Tokenizer:\n",
        "    clean_captions_list = [caption for captions in captions_dict.values()\n",
        "                           for caption in captions]\n",
        "    tokenizer = Tokenizer(num_words=top_k, oov_token=\"<unk>\")\n",
        "    tokenizer.word_index['<pad>'] = 0\n",
        "    tokenizer.index_word[0] = '<pad>'\n",
        "    tokenizer.fit_on_texts(clean_captions_list)\n",
        "    return tokenizer"
      ]
    },
    {
      "cell_type": "code",
      "execution_count": 34,
      "id": "db249b69",
      "metadata": {
        "id": "db249b69"
      },
      "outputs": [],
      "source": [
        "def path_cap_list(img_names_set: set, tokenizer: Tokenizer, captions_dict) -> (list, list):\n",
        "    tokenized_caps_dict = tokenize_cap(tokenizer, captions_dict)\n",
        "    image_name_list = sorted(img_names_set)\n",
        "    capt_list = [cap for name in image_name_list for cap in tokenized_caps_dict[name]]\n",
        "    img_path_list = [img_name_2_path(name) for name in image_name_list for i in range(len(tokenized_caps_dict[name]))]\n",
        "    return img_path_list, capt_list"
      ]
    },
    {
      "cell_type": "code",
      "execution_count": 35,
      "id": "7b728502",
      "metadata": {
        "id": "7b728502"
      },
      "outputs": [],
      "source": [
        "def load_npy(image_path: str, cap: str) -> (str, str):\n",
        "    \"\"\"\n",
        "    :returns image tensor vector with the image path\n",
        "    :param image_path:\n",
        "    :param cap:\n",
        "    \"\"\"\n",
        "    img_tensor = np.load(image_path.decode('utf-8') + '.npy')\n",
        "    return img_tensor, cap"
      ]
    },
    {
      "cell_type": "code",
      "source": [
        "def create_dataset(img_path_list: str, cap_list: str) -> object:\n",
        "    \"\"\"\n",
        "    :param img_path_list: The ordered list of img paths with duplication acc to number of captions\n",
        "    :param cap_list: the padded caption list with the curr order\n",
        "    :return: dataset\n",
        "    \"\"\"\n",
        "    dataset = tf.data.Dataset.from_tensor_slices((img_path_list, cap_list))\n",
        "    # Use map to load the numpy files in parallel\n",
        "    dataset = dataset.map(lambda item1, item2: tf.numpy_function(load_npy, [item1, item2], [tf.float32, tf.int32]),\n",
        "                          num_parallel_calls=tf.data.experimental.AUTOTUNE)\n",
        "    # Shuffle and batch\n",
        "    dataset = dataset.shuffle(BUFFER_SIZE).batch(BATCH_SIZE).prefetch(buffer_size=tf.data.experimental.AUTOTUNE)\n",
        "    return dataset"
      ],
      "metadata": {
        "id": "o2VomwXCkOGz"
      },
      "id": "o2VomwXCkOGz",
      "execution_count": 36,
      "outputs": []
    },
    {
      "cell_type": "code",
      "execution_count": 37,
      "id": "66942098",
      "metadata": {
        "colab": {
          "base_uri": "https://localhost:8080/",
          "height": 35
        },
        "id": "66942098",
        "outputId": "33ebe50b-e7fe-46ab-8bce-9241004bac6a"
      },
      "outputs": [
        {
          "output_type": "execute_result",
          "data": {
            "text/plain": [
              "'/content/flickr8k/Flickr8k.token.txt'"
            ],
            "application/vnd.google.colaboratory.intrinsic+json": {
              "type": "string"
            }
          },
          "metadata": {},
          "execution_count": 37
        }
      ],
      "source": [
        "CAP_TEXT_PATH"
      ]
    },
    {
      "cell_type": "markdown",
      "id": "6812454c",
      "metadata": {
        "id": "6812454c"
      },
      "source": [
        "Pre processing is also done while loading the captions"
      ]
    },
    {
      "cell_type": "code",
      "source": [
        "import nltk\n",
        "nltk.download('wordnet')"
      ],
      "metadata": {
        "colab": {
          "base_uri": "https://localhost:8080/"
        },
        "id": "g6e_dyB7jMyy",
        "outputId": "8ac3d98f-3721-4c3f-cf49-f9433bff489b"
      },
      "id": "g6e_dyB7jMyy",
      "execution_count": 38,
      "outputs": [
        {
          "output_type": "stream",
          "name": "stderr",
          "text": [
            "[nltk_data] Downloading package wordnet to /root/nltk_data...\n"
          ]
        },
        {
          "output_type": "execute_result",
          "data": {
            "text/plain": [
              "True"
            ]
          },
          "metadata": {},
          "execution_count": 38
        }
      ]
    },
    {
      "cell_type": "code",
      "execution_count": 39,
      "id": "0f2b7889",
      "metadata": {
        "id": "0f2b7889"
      },
      "outputs": [],
      "source": [
        "cap_dict = load_cap(CAP_TEXT_PATH)"
      ]
    },
    {
      "cell_type": "markdown",
      "id": "af989d70",
      "metadata": {
        "id": "af989d70"
      },
      "source": [
        "Finding the maximum len of the captption"
      ]
    },
    {
      "cell_type": "code",
      "execution_count": 40,
      "id": "0398b64d",
      "metadata": {
        "colab": {
          "base_uri": "https://localhost:8080/"
        },
        "id": "0398b64d",
        "outputId": "87780b13-e693-4164-e02f-9746e77e5b6a"
      },
      "outputs": [
        {
          "output_type": "stream",
          "name": "stdout",
          "text": [
            "34\n"
          ]
        }
      ],
      "source": [
        "MAX_CAP_LEN = max_len(cap_dict)\n",
        "print(MAX_CAP_LEN)"
      ]
    },
    {
      "cell_type": "code",
      "execution_count": 41,
      "id": "c34308bc",
      "metadata": {
        "id": "c34308bc"
      },
      "outputs": [],
      "source": [
        "def tokenize_cap(tokenizer: Tokenizer, captions_dict: dict, pad_len: int = MAX_CAP_LEN) -> dict:\n",
        "    pad_caps_dict = {img_name: pad_sequences(tokenizer.texts_to_sequences(captions), maxlen=pad_len, padding='post')\n",
        "                     for img_name, captions in captions_dict.items()}\n",
        "    return pad_caps_dict"
      ]
    },
    {
      "cell_type": "code",
      "execution_count": 42,
      "id": "1399c87e",
      "metadata": {
        "id": "1399c87e"
      },
      "outputs": [],
      "source": [
        "CLEAN_CAP_TEXT_PATH = \"/content/flickr8k/Flickr8k_clean_cap.txt\""
      ]
    },
    {
      "cell_type": "markdown",
      "id": "efe6885d",
      "metadata": {
        "id": "efe6885d"
      },
      "source": [
        "## Saving the clean captions"
      ]
    },
    {
      "cell_type": "code",
      "execution_count": 43,
      "id": "a3d6c103",
      "metadata": {
        "colab": {
          "base_uri": "https://localhost:8080/"
        },
        "id": "a3d6c103",
        "outputId": "7127c2bc-aac9-406f-81ac-3239ff8e224b"
      },
      "outputs": [
        {
          "output_type": "execute_result",
          "data": {
            "text/plain": [
              "True"
            ]
          },
          "metadata": {},
          "execution_count": 43
        }
      ],
      "source": [
        "save_captions(cap_dict,CLEAN_CAP_TEXT_PATH)"
      ]
    },
    {
      "cell_type": "markdown",
      "id": "8db16a16",
      "metadata": {
        "id": "8db16a16"
      },
      "source": [
        "# Tokenizing words"
      ]
    },
    {
      "cell_type": "markdown",
      "id": "31cc55f2",
      "metadata": {
        "id": "31cc55f2"
      },
      "source": [
        "## Loading the train img names"
      ]
    },
    {
      "cell_type": "code",
      "execution_count": 44,
      "id": "1b5857c2",
      "metadata": {
        "id": "1b5857c2"
      },
      "outputs": [],
      "source": [
        "train_img_names = sorted(load_set(TRAIN_TXT_PATH))"
      ]
    },
    {
      "cell_type": "markdown",
      "id": "34065a09",
      "metadata": {
        "id": "34065a09"
      },
      "source": [
        "Loading the train img captions as a dict"
      ]
    },
    {
      "cell_type": "code",
      "execution_count": 45,
      "id": "e6dc2cc0",
      "metadata": {
        "id": "e6dc2cc0"
      },
      "outputs": [],
      "source": [
        "train_img_cap = load_clean_cap(CLEAN_CAP_TEXT_PATH, train_img_names)"
      ]
    },
    {
      "cell_type": "code",
      "execution_count": 46,
      "id": "cd753a57",
      "metadata": {
        "colab": {
          "base_uri": "https://localhost:8080/"
        },
        "id": "cd753a57",
        "outputId": "6f9a6cb4-6449-4bea-8656-2a5bc5884029"
      },
      "outputs": [
        {
          "output_type": "execute_result",
          "data": {
            "text/plain": [
              "6000"
            ]
          },
          "metadata": {},
          "execution_count": 46
        }
      ],
      "source": [
        "len(train_img_cap)"
      ]
    },
    {
      "cell_type": "code",
      "execution_count": 47,
      "id": "139d68ef",
      "metadata": {
        "colab": {
          "base_uri": "https://localhost:8080/"
        },
        "id": "139d68ef",
        "outputId": "1b85eb7b-cc6f-4415-9a7d-16e4c288c823"
      },
      "outputs": [
        {
          "output_type": "stream",
          "name": "stdout",
          "text": [
            "['startofseq child in pink dress is climbing up set of stair in an entry way endofseq', 'startofseq girl going into wooden building endofseq', 'startofseq little girl climbing into wooden playhouse endofseq', 'startofseq little girl climbing the stair to her playhouse endofseq', 'startofseq little girl in pink dress going into wooden cabin endofseq']\n"
          ]
        }
      ],
      "source": [
        "for x in train_img_cap.values():\n",
        "    print(x)\n",
        "    break"
      ]
    },
    {
      "cell_type": "markdown",
      "id": "a87570bb",
      "metadata": {
        "id": "a87570bb"
      },
      "source": [
        "## Creating a tokenizer for training set"
      ]
    },
    {
      "cell_type": "code",
      "execution_count": 48,
      "id": "cd0edcc0",
      "metadata": {
        "id": "cd0edcc0"
      },
      "outputs": [],
      "source": [
        "tokenizer = create_tokenizer(train_img_cap)"
      ]
    },
    {
      "cell_type": "code",
      "execution_count": 49,
      "id": "6f767b88",
      "metadata": {
        "colab": {
          "base_uri": "https://localhost:8080/"
        },
        "id": "6f767b88",
        "outputId": "5f85540a-cb04-463f-9d28-ca916f1a3a17"
      },
      "outputs": [
        {
          "output_type": "stream",
          "name": "stdout",
          "text": [
            "6537\n"
          ]
        }
      ],
      "source": [
        "VOCAB_SIZE = len(tokenizer.word_index) + 1\n",
        "print(VOCAB_SIZE)"
      ]
    },
    {
      "cell_type": "code",
      "execution_count": 50,
      "id": "d48890bd",
      "metadata": {
        "colab": {
          "base_uri": "https://localhost:8080/"
        },
        "id": "d48890bd",
        "outputId": "9c24b92e-5fae-4213-961a-05f541c2fb1a"
      },
      "outputs": [
        {
          "output_type": "execute_result",
          "data": {
            "text/plain": [
              "{'<unk>': 1,\n",
              " 'startofseq': 2,\n",
              " 'endofseq': 3,\n",
              " 'in': 4,\n",
              " 'the': 5,\n",
              " 'on': 6,\n",
              " 'dog': 7,\n",
              " 'is': 8,\n",
              " 'and': 9,\n",
              " 'with': 10,\n",
              " 'man': 11,\n",
              " 'of': 12,\n",
              " 'two': 13,\n",
              " 'boy': 14,\n",
              " 'girl': 15,\n",
              " 'woman': 16,\n",
              " 'white': 17,\n",
              " 'black': 18,\n",
              " 'are': 19,\n",
              " 'to': 20,\n",
              " 'wearing': 21,\n",
              " 'at': 22,\n",
              " 'people': 23,\n",
              " 'water': 24,\n",
              " 'brown': 25,\n",
              " 'red': 26,\n",
              " 'young': 27,\n",
              " 'child': 28,\n",
              " 'an': 29,\n",
              " 'his': 30,\n",
              " 'blue': 31,\n",
              " 'running': 32,\n",
              " 'through': 33,\n",
              " 'playing': 34,\n",
              " 'shirt': 35,\n",
              " 'while': 36,\n",
              " 'ball': 37,\n",
              " 'down': 38,\n",
              " 'standing': 39,\n",
              " 'little': 40,\n",
              " 'grass': 41,\n",
              " 'snow': 42,\n",
              " 'person': 43,\n",
              " 'jumping': 44,\n",
              " 'over': 45,\n",
              " 'three': 46,\n",
              " 'stand': 47,\n",
              " 'jump': 48,\n",
              " 'sitting': 49,\n",
              " 'field': 50,\n",
              " 'run': 51,\n",
              " 'front': 52,\n",
              " 'it': 53,\n",
              " 'holding': 54,\n",
              " 'play': 55,\n",
              " 'small': 56,\n",
              " 'yellow': 57,\n",
              " 'green': 58,\n",
              " 'group': 59,\n",
              " 'up': 60,\n",
              " 'by': 61,\n",
              " 'large': 62,\n",
              " 'one': 63,\n",
              " 'walking': 64,\n",
              " 'her': 65,\n",
              " 'men': 66,\n",
              " 'mouth': 67,\n",
              " 'air': 68,\n",
              " 'player': 69,\n",
              " 'into': 70,\n",
              " 'rock': 71,\n",
              " 'near': 72,\n",
              " 'beach': 73,\n",
              " 'street': 74,\n",
              " 'another': 75,\n",
              " 'bike': 76,\n",
              " 'for': 77,\n",
              " 'from': 78,\n",
              " 'riding': 79,\n",
              " 'walk': 80,\n",
              " 'a': 81,\n",
              " 'outside': 82,\n",
              " 'hat': 83,\n",
              " 'other': 84,\n",
              " 'looking': 85,\n",
              " 'jacket': 86,\n",
              " 'look': 87,\n",
              " 'orange': 88,\n",
              " 'out': 89,\n",
              " 'pink': 90,\n",
              " 'mountain': 91,\n",
              " 'next': 92,\n",
              " 'ride': 93,\n",
              " 'camera': 94,\n",
              " 'off': 95,\n",
              " 'tree': 96,\n",
              " 'pool': 97,\n",
              " 'their': 98,\n",
              " 'toy': 99,\n",
              " 'behind': 100,\n",
              " 'around': 101,\n",
              " 'soccer': 102,\n",
              " 'some': 103,\n",
              " 'wall': 104,\n",
              " 'sits': 105,\n",
              " 'background': 106,\n",
              " 'hand': 107,\n",
              " 'face': 108,\n",
              " 'ha': 109,\n",
              " 'building': 110,\n",
              " 'stick': 111,\n",
              " 'dressed': 112,\n",
              " 'dirt': 113,\n",
              " 'kid': 114,\n",
              " 'hold': 115,\n",
              " 'top': 116,\n",
              " 'watch': 117,\n",
              " 'along': 118,\n",
              " 'park': 119,\n",
              " 'football': 120,\n",
              " 'climbing': 121,\n",
              " 'car': 122,\n",
              " 'catch': 123,\n",
              " 'skateboard': 124,\n",
              " 'four': 125,\n",
              " 'picture': 126,\n",
              " 'crowd': 127,\n",
              " 'trick': 128,\n",
              " 'hill': 129,\n",
              " 'smiling': 130,\n",
              " 'grassy': 131,\n",
              " 'swing': 132,\n",
              " 'across': 133,\n",
              " 'swimming': 134,\n",
              " 'carrying': 135,\n",
              " 'bicycle': 136,\n",
              " 'sand': 137,\n",
              " 'short': 138,\n",
              " 'race': 139,\n",
              " 'baby': 140,\n",
              " 'wave': 141,\n",
              " 'dress': 142,\n",
              " 'helmet': 143,\n",
              " 'each': 144,\n",
              " 'snowy': 145,\n",
              " 'tennis': 146,\n",
              " 'hair': 147,\n",
              " 'together': 148,\n",
              " 'ocean': 149,\n",
              " 'arm': 150,\n",
              " 'back': 151,\n",
              " 'doing': 152,\n",
              " 'bench': 153,\n",
              " 'tan': 154,\n",
              " 'road': 155,\n",
              " 'slide': 156,\n",
              " 'head': 157,\n",
              " 'him': 158,\n",
              " 'area': 159,\n",
              " 'that': 160,\n",
              " 'game': 161,\n",
              " 'sidewalk': 162,\n",
              " 'sit': 163,\n",
              " 'ground': 164,\n",
              " 'fence': 165,\n",
              " 'basketball': 166,\n",
              " 'pose': 167,\n",
              " 'uniform': 168,\n",
              " 'horse': 169,\n",
              " 'something': 170,\n",
              " 'skateboarder': 171,\n",
              " 'being': 172,\n",
              " 'purple': 173,\n",
              " 'track': 174,\n",
              " 'side': 175,\n",
              " 'frisbee': 176,\n",
              " 'guy': 177,\n",
              " 'several': 178,\n",
              " 'ramp': 179,\n",
              " 'boat': 180,\n",
              " 'lake': 181,\n",
              " 'coat': 182,\n",
              " 'covered': 183,\n",
              " 'there': 184,\n",
              " 'city': 185,\n",
              " 'path': 186,\n",
              " 'suit': 187,\n",
              " 'smile': 188,\n",
              " 'posing': 189,\n",
              " 'baseball': 190,\n",
              " 'rope': 191,\n",
              " 'big': 192,\n",
              " 'long': 193,\n",
              " 'climb': 194,\n",
              " 'high': 195,\n",
              " 'motorcycle': 196,\n",
              " 'wooden': 197,\n",
              " 'sign': 198,\n",
              " 'wood': 199,\n",
              " 'pant': 200,\n",
              " 'lady': 201,\n",
              " 'jean': 202,\n",
              " 'couple': 203,\n",
              " 'take': 204,\n",
              " 'them': 205,\n",
              " 'rocky': 206,\n",
              " 'watching': 207,\n",
              " 'glass': 208,\n",
              " 'table': 209,\n",
              " 'under': 210,\n",
              " 'bird': 211,\n",
              " 'grey': 212,\n",
              " 'sunglass': 213,\n",
              " 'dark': 214,\n",
              " 'racing': 215,\n",
              " 'snowboarder': 216,\n",
              " 'older': 217,\n",
              " 'towards': 218,\n",
              " 'doe': 219,\n",
              " 'beside': 220,\n",
              " 'leap': 221,\n",
              " 'get': 222,\n",
              " 'rider': 223,\n",
              " 'adult': 224,\n",
              " 'bag': 225,\n",
              " 'cliff': 226,\n",
              " 'above': 227,\n",
              " 'river': 228,\n",
              " 'who': 229,\n",
              " 'ice': 230,\n",
              " 'team': 231,\n",
              " 'colorful': 232,\n",
              " 'pole': 233,\n",
              " 'yard': 234,\n",
              " 'open': 235,\n",
              " 'striped': 236,\n",
              " 'backpack': 237,\n",
              " 'skier': 238,\n",
              " 'onto': 239,\n",
              " 'cap': 240,\n",
              " 'against': 241,\n",
              " 'outfit': 242,\n",
              " 'taking': 243,\n",
              " 'he': 244,\n",
              " 'flower': 245,\n",
              " 'midair': 246,\n",
              " 'asian': 247,\n",
              " 'blonde': 248,\n",
              " 'swim': 249,\n",
              " 'chair': 250,\n",
              " 'light': 251,\n",
              " 'collar': 252,\n",
              " 'after': 253,\n",
              " 'body': 254,\n",
              " 'blond': 255,\n",
              " 'chasing': 256,\n",
              " 'hockey': 257,\n",
              " 'surfer': 258,\n",
              " 'fountain': 259,\n",
              " 'laying': 260,\n",
              " 'leg': 261,\n",
              " 'inside': 262,\n",
              " 'costume': 263,\n",
              " 'during': 264,\n",
              " 'wet': 265,\n",
              " 'many': 266,\n",
              " 'surrounded': 267,\n",
              " 'old': 268,\n",
              " 'drink': 269,\n",
              " 'edge': 270,\n",
              " 'toddler': 271,\n",
              " 'colored': 272,\n",
              " 'forest': 273,\n",
              " 'very': 274,\n",
              " 'five': 275,\n",
              " 'playground': 276,\n",
              " 'performing': 277,\n",
              " 'hanging': 278,\n",
              " 'step': 279,\n",
              " 'guitar': 280,\n",
              " 'others': 281,\n",
              " 'object': 282,\n",
              " 'outdoors': 283,\n",
              " 'flag': 284,\n",
              " 'ski': 285,\n",
              " 'tshirt': 286,\n",
              " 'leash': 287,\n",
              " 'wear': 288,\n",
              " 'whilst': 289,\n",
              " 'brick': 290,\n",
              " 'carry': 291,\n",
              " 'night': 292,\n",
              " 'biker': 293,\n",
              " 'trying': 294,\n",
              " 'window': 295,\n",
              " 'past': 296,\n",
              " 'climber': 297,\n",
              " 'away': 298,\n",
              " 'surfboard': 299,\n",
              " 'make': 300,\n",
              " 'talking': 301,\n",
              " 'making': 302,\n",
              " 'line': 303,\n",
              " 'bed': 304,\n",
              " 'middle': 305,\n",
              " 'bar': 306,\n",
              " 'trail': 307,\n",
              " 'gray': 308,\n",
              " 'shore': 309,\n",
              " 'this': 310,\n",
              " 'sky': 311,\n",
              " 'flying': 312,\n",
              " 'eating': 313,\n",
              " 'someone': 314,\n",
              " 'haired': 315,\n",
              " 'going': 316,\n",
              " 'about': 317,\n",
              " 'toward': 318,\n",
              " 'stone': 319,\n",
              " 'tall': 320,\n",
              " 'jersey': 321,\n",
              " 'house': 322,\n",
              " 'clothes': 323,\n",
              " 'puppy': 324,\n",
              " 'dancing': 325,\n",
              " 'course': 326,\n",
              " 'swinging': 327,\n",
              " 'bridge': 328,\n",
              " 'chase': 329,\n",
              " 'nearby': 330,\n",
              " 'bubble': 331,\n",
              " 'floor': 332,\n",
              " 'plastic': 333,\n",
              " 'lot': 334,\n",
              " 'shallow': 335,\n",
              " 'animal': 336,\n",
              " 'leaf': 337,\n",
              " 'try': 338,\n",
              " 'kick': 339,\n",
              " 'greyhound': 340,\n",
              " 'leaping': 341,\n",
              " 'railing': 342,\n",
              " 'board': 343,\n",
              " 'sliding': 344,\n",
              " 'fly': 345,\n",
              " 'tongue': 346,\n",
              " 'obstacle': 347,\n",
              " 'between': 348,\n",
              " 'fighting': 349,\n",
              " 'ready': 350,\n",
              " 'hiker': 351,\n",
              " 'gear': 352,\n",
              " 'foot': 353,\n",
              " 'splashing': 354,\n",
              " 'all': 355,\n",
              " 'bright': 356,\n",
              " 'eye': 357,\n",
              " 'stair': 358,\n",
              " 'room': 359,\n",
              " 'female': 360,\n",
              " 'go': 361,\n",
              " 'skateboarding': 362,\n",
              " 'male': 363,\n",
              " 'dance': 364,\n",
              " 'day': 365,\n",
              " 'hit': 366,\n",
              " 'set': 367,\n",
              " 'sandy': 368,\n",
              " 'throw': 369,\n",
              " 'lawn': 370,\n",
              " 'they': 371,\n",
              " 'store': 372,\n",
              " 'trunk': 373,\n",
              " 'clothing': 374,\n",
              " 'mud': 375,\n",
              " 'surf': 376,\n",
              " 'metal': 377,\n",
              " 'golden': 378,\n",
              " 'sled': 379,\n",
              " 'winter': 380,\n",
              " 'rail': 381,\n",
              " 'vest': 382,\n",
              " 'outdoor': 383,\n",
              " 'sweater': 384,\n",
              " 'tire': 385,\n",
              " 'umbrella': 386,\n",
              " 'number': 387,\n",
              " 'splash': 388,\n",
              " 'getting': 389,\n",
              " 'sun': 390,\n",
              " 'ear': 391,\n",
              " 'drinking': 392,\n",
              " 'train': 393,\n",
              " 'skiing': 394,\n",
              " 'waiting': 395,\n",
              " 'flip': 396,\n",
              " 'concrete': 397,\n",
              " 'catching': 398,\n",
              " 'overlooking': 399,\n",
              " 'skirt': 400,\n",
              " 'cellphone': 401,\n",
              " 'trampoline': 402,\n",
              " 'hurdle': 403,\n",
              " 'bathing': 404,\n",
              " 'nose': 405,\n",
              " 'fire': 406,\n",
              " 'wooded': 407,\n",
              " 'shoe': 408,\n",
              " 'leaning': 409,\n",
              " 'distance': 410,\n",
              " 'pulling': 411,\n",
              " 'vehicle': 412,\n",
              " 'skate': 413,\n",
              " 'turn': 414,\n",
              " 'laughing': 415,\n",
              " 'huge': 416,\n",
              " 'fishing': 417,\n",
              " 'busy': 418,\n",
              " 'throwing': 419,\n",
              " 'snowboard': 420,\n",
              " 'puddle': 421,\n",
              " 'shirtless': 422,\n",
              " 'hang': 423,\n",
              " 'cyclist': 424,\n",
              " 'photo': 425,\n",
              " 'mask': 426,\n",
              " 'performs': 427,\n",
              " 'view': 428,\n",
              " 'harness': 429,\n",
              " 'stream': 430,\n",
              " 'pond': 431,\n",
              " 'slope': 432,\n",
              " 'scarf': 433,\n",
              " 'life': 434,\n",
              " 'deep': 435,\n",
              " 'truck': 436,\n",
              " 'elderly': 437,\n",
              " 'lying': 438,\n",
              " 'talk': 439,\n",
              " 'surfing': 440,\n",
              " 'upside': 441,\n",
              " 'wetsuit': 442,\n",
              " 'american': 443,\n",
              " 'food': 444,\n",
              " 'tank': 445,\n",
              " 'show': 446,\n",
              " 'wait': 447,\n",
              " 'bat': 448,\n",
              " 'muddy': 449,\n",
              " 'waterfall': 450,\n",
              " 'tent': 451,\n",
              " 'raft': 452,\n",
              " 'dry': 453,\n",
              " 'wheel': 454,\n",
              " 'bicyclist': 455,\n",
              " 'structure': 456,\n",
              " 'reading': 457,\n",
              " 'cart': 458,\n",
              " 'or': 459,\n",
              " 'no': 460,\n",
              " 'equipment': 461,\n",
              " 'court': 462,\n",
              " 'stunt': 463,\n",
              " 'book': 464,\n",
              " 'both': 465,\n",
              " 'right': 466,\n",
              " 'couch': 467,\n",
              " 'left': 468,\n",
              " 'kayak': 469,\n",
              " 'ring': 470,\n",
              " 'paper': 471,\n",
              " 'like': 472,\n",
              " 'ledge': 473,\n",
              " 'fight': 474,\n",
              " 'she': 475,\n",
              " 'dock': 476,\n",
              " 'shopping': 477,\n",
              " 'coming': 478,\n",
              " 'sport': 479,\n",
              " 'be': 480,\n",
              " 'falling': 481,\n",
              " 'lay': 482,\n",
              " 'bus': 483,\n",
              " 'fall': 484,\n",
              " 'shoulder': 485,\n",
              " 'restaurant': 486,\n",
              " 'canoe': 487,\n",
              " 'setting': 488,\n",
              " 'biting': 489,\n",
              " 'sweatshirt': 490,\n",
              " 'lone': 491,\n",
              " 'subway': 492,\n",
              " 'cement': 493,\n",
              " 'cigarette': 494,\n",
              " 'hoop': 495,\n",
              " 'lean': 496,\n",
              " 'parking': 497,\n",
              " 'parade': 498,\n",
              " 'bottle': 499,\n",
              " 'attempt': 500,\n",
              " 'inflatable': 501,\n",
              " 'closeup': 502,\n",
              " 'bikini': 503,\n",
              " 'sprinkler': 504,\n",
              " 'door': 505,\n",
              " 'hiking': 506,\n",
              " 'skating': 507,\n",
              " 'goal': 508,\n",
              " 'statue': 509,\n",
              " 'balloon': 510,\n",
              " 'airborne': 511,\n",
              " 'family': 512,\n",
              " 'kicking': 513,\n",
              " 'driving': 514,\n",
              " 'low': 515,\n",
              " 'tunnel': 516,\n",
              " 'goggles': 517,\n",
              " 'boot': 518,\n",
              " 'german': 519,\n",
              " 'shepherd': 520,\n",
              " 'crowded': 521,\n",
              " 'using': 522,\n",
              " 'swimsuit': 523,\n",
              " 'blanket': 524,\n",
              " 'branch': 525,\n",
              " 'log': 526,\n",
              " 'fallen': 527,\n",
              " 'end': 528,\n",
              " 'pile': 529,\n",
              " 'drive': 530,\n",
              " 'hugging': 531,\n",
              " 'bald': 532,\n",
              " 'racer': 533,\n",
              " 'piece': 534,\n",
              " 'paint': 535,\n",
              " 'have': 536,\n",
              " 'pushing': 537,\n",
              " 'cross': 538,\n",
              " 'silver': 539,\n",
              " 'six': 540,\n",
              " 'sunset': 541,\n",
              " 'fish': 542,\n",
              " 'cup': 543,\n",
              " 'cat': 544,\n",
              " 'painted': 545,\n",
              " 'held': 546,\n",
              " 'bmx': 547,\n",
              " 'scooter': 548,\n",
              " 'gold': 549,\n",
              " 'point': 550,\n",
              " 'surface': 551,\n",
              " 'paddle': 552,\n",
              " 'smaller': 553,\n",
              " 'pull': 554,\n",
              " 'laugh': 555,\n",
              " 'backyard': 556,\n",
              " 'microphone': 557,\n",
              " 'motorcyclist': 558,\n",
              " 'duck': 559,\n",
              " 'smoke': 560,\n",
              " 'leather': 561,\n",
              " 'net': 562,\n",
              " 'garden': 563,\n",
              " 'art': 564,\n",
              " 'event': 565,\n",
              " 'corner': 566,\n",
              " 'band': 567,\n",
              " 'stuffed': 568,\n",
              " 'wrestle': 569,\n",
              " 'bucket': 570,\n",
              " 'push': 571,\n",
              " 'volleyball': 572,\n",
              " 'box': 573,\n",
              " 'beard': 574,\n",
              " 'blowing': 575,\n",
              " 'shaking': 576,\n",
              " 'diving': 577,\n",
              " 'teenage': 578,\n",
              " 'cow': 579,\n",
              " 'fluffy': 580,\n",
              " 'shop': 581,\n",
              " 'smoking': 582,\n",
              " 'seat': 583,\n",
              " 'party': 584,\n",
              " 'clear': 585,\n",
              " 'few': 586,\n",
              " 'wrestler': 587,\n",
              " 'rugby': 588,\n",
              " 'below': 589,\n",
              " 'sticking': 590,\n",
              " 'underwater': 591,\n",
              " 'finger': 592,\n",
              " 'furry': 593,\n",
              " 'sunny': 594,\n",
              " 'phone': 595,\n",
              " 'graffiti': 596,\n",
              " 'muzzle': 597,\n",
              " 'blow': 598,\n",
              " 'sleeping': 599,\n",
              " 'prepares': 600,\n",
              " 'read': 601,\n",
              " 'gathered': 602,\n",
              " 'bite': 603,\n",
              " 'hind': 604,\n",
              " 'snowboarding': 605,\n",
              " 'full': 606,\n",
              " 'shot': 607,\n",
              " 'staring': 608,\n",
              " 'beer': 609,\n",
              " 'teenager': 610,\n",
              " 'same': 611,\n",
              " 'glove': 612,\n",
              " 'wrestling': 613,\n",
              " 'racetrack': 614,\n",
              " 'bunch': 615,\n",
              " 'bull': 616,\n",
              " 'bride': 617,\n",
              " 'way': 618,\n",
              " 'crossing': 619,\n",
              " 'reach': 620,\n",
              " 'friend': 621,\n",
              " 'display': 622,\n",
              " 'poodle': 623,\n",
              " 'cone': 624,\n",
              " 'can': 625,\n",
              " 'put': 626,\n",
              " 'steep': 627,\n",
              " 'attached': 628,\n",
              " 'purse': 629,\n",
              " 'block': 630,\n",
              " 'spectator': 631,\n",
              " 'bottom': 632,\n",
              " 'plaid': 633,\n",
              " 'do': 634,\n",
              " 'runner': 635,\n",
              " 'fast': 636,\n",
              " 'plant': 637,\n",
              " 'photograph': 638,\n",
              " 'wide': 639,\n",
              " 'cowboy': 640,\n",
              " 'pointing': 641,\n",
              " 'kitchen': 642,\n",
              " 'desert': 643,\n",
              " 'stage': 644,\n",
              " 'racket': 645,\n",
              " 'pavement': 646,\n",
              " 'rest': 647,\n",
              " 'headphone': 648,\n",
              " 'just': 649,\n",
              " 'gym': 650,\n",
              " 'bearded': 651,\n",
              " 'kissing': 652,\n",
              " 'beige': 653,\n",
              " 'tube': 654,\n",
              " 'mohawk': 655,\n",
              " 'santa': 656,\n",
              " 'which': 657,\n",
              " 'attempting': 658,\n",
              " 'police': 659,\n",
              " 'headband': 660,\n",
              " 'competition': 661,\n",
              " 'paved': 662,\n",
              " 'hose': 663,\n",
              " 'facing': 664,\n",
              " 'hole': 665,\n",
              " 'traffic': 666,\n",
              " 'sheep': 667,\n",
              " 'spray': 668,\n",
              " 'close': 669,\n",
              " 'carpet': 670,\n",
              " 'float': 671,\n",
              " 'bush': 672,\n",
              " 'teeth': 673,\n",
              " 'rain': 674,\n",
              " 'cream': 675,\n",
              " 'plate': 676,\n",
              " 'waving': 677,\n",
              " 'instrument': 678,\n",
              " 'painting': 679,\n",
              " 'row': 680,\n",
              " 'platform': 681,\n",
              " 'snowcovered': 682,\n",
              " 'onlooker': 683,\n",
              " 'unicycle': 684,\n",
              " 'dirty': 685,\n",
              " 'barefoot': 686,\n",
              " 'retriever': 687,\n",
              " 'gravel': 688,\n",
              " 'chewing': 689,\n",
              " 'fenced': 690,\n",
              " 'wedding': 691,\n",
              " 'lead': 692,\n",
              " 'eats': 693,\n",
              " 'stop': 694,\n",
              " 'rough': 695,\n",
              " 'wire': 696,\n",
              " 'kiss': 697,\n",
              " 'wading': 698,\n",
              " 'jeep': 699,\n",
              " 'downhill': 700,\n",
              " 'goalie': 701,\n",
              " 'rural': 702,\n",
              " 'video': 703,\n",
              " 'public': 704,\n",
              " 'motocross': 705,\n",
              " 'showing': 706,\n",
              " 'neck': 707,\n",
              " 'raise': 708,\n",
              " 'owner': 709,\n",
              " 'match': 710,\n",
              " 'tackle': 711,\n",
              " 'worker': 712,\n",
              " 'landscape': 713,\n",
              " 'resting': 714,\n",
              " 'parked': 715,\n",
              " 'chew': 716,\n",
              " 'younger': 717,\n",
              " 'hike': 718,\n",
              " 'give': 719,\n",
              " 'scene': 720,\n",
              " 'amusement': 721,\n",
              " 'among': 722,\n",
              " 'urban': 723,\n",
              " 'speed': 724,\n",
              " 'balance': 725,\n",
              " 'move': 726,\n",
              " 'lie': 727,\n",
              " 'newspaper': 728,\n",
              " 'beautiful': 729,\n",
              " 'empty': 730,\n",
              " 'handstand': 731,\n",
              " 'where': 732,\n",
              " 'lap': 733,\n",
              " 'seated': 734,\n",
              " 'wing': 735,\n",
              " 'help': 736,\n",
              " 'rolling': 737,\n",
              " 'bandanna': 738,\n",
              " 'school': 739,\n",
              " 'rapid': 740,\n",
              " 'gather': 741,\n",
              " 'kite': 742,\n",
              " 'digging': 743,\n",
              " 'officer': 744,\n",
              " 'hula': 745,\n",
              " 'spot': 746,\n",
              " 'lit': 747,\n",
              " 'atv': 748,\n",
              " 'cloud': 749,\n",
              " 'pulled': 750,\n",
              " 'hug': 751,\n",
              " 'filled': 752,\n",
              " 'softball': 753,\n",
              " 'formation': 754,\n",
              " 'tattoo': 755,\n",
              " 'mother': 756,\n",
              " 'curly': 757,\n",
              " 'cricket': 758,\n",
              " 'round': 759,\n",
              " 'giant': 760,\n",
              " 'african': 761,\n",
              " 'cheerleader': 762,\n",
              " 'grinding': 763,\n",
              " 'opposing': 764,\n",
              " 'terrier': 765,\n",
              " 'having': 766,\n",
              " 'outstretched': 767,\n",
              " 'motorbike': 768,\n",
              " 'creek': 769,\n",
              " 'carnival': 770,\n",
              " 'matching': 771,\n",
              " 'land': 772,\n",
              " 'fetch': 773,\n",
              " 'third': 774,\n",
              " 'basket': 775,\n",
              " 'hay': 776,\n",
              " 'swimmer': 777,\n",
              " 'jockey': 778,\n",
              " 'shooting': 779,\n",
              " 'thrown': 780,\n",
              " 'paddling': 781,\n",
              " 'indoor': 782,\n",
              " 'gun': 783,\n",
              " 'deck': 784,\n",
              " 'brightly': 785,\n",
              " 'giving': 786,\n",
              " 'barrier': 787,\n",
              " 'base': 788,\n",
              " 'chain': 789,\n",
              " 'touch': 790,\n",
              " 'stadium': 791,\n",
              " 'licking': 792,\n",
              " 'appears': 793,\n",
              " 'christmas': 794,\n",
              " 'market': 795,\n",
              " 'wheelchair': 796,\n",
              " 'camel': 797,\n",
              " 'different': 798,\n",
              " 'stroller': 799,\n",
              " 'seen': 800,\n",
              " 'break': 801,\n",
              " 'terrain': 802,\n",
              " 'atop': 803,\n",
              " 'machine': 804,\n",
              " 'floating': 805,\n",
              " 'hitting': 806,\n",
              " 'alongside': 807,\n",
              " 'knee': 808,\n",
              " 'funny': 809,\n",
              " 'reaching': 810,\n",
              " 'ribbon': 811,\n",
              " 'skater': 812,\n",
              " 'balancing': 813,\n",
              " 'bend': 814,\n",
              " 'singing': 815,\n",
              " 'clown': 816,\n",
              " 'spotted': 817,\n",
              " 'moving': 818,\n",
              " 'bowl': 819,\n",
              " 'shake': 820,\n",
              " 'overall': 821,\n",
              " 'putting': 822,\n",
              " 'handrail': 823,\n",
              " 'tug': 824,\n",
              " 'stare': 825,\n",
              " 'tie': 826,\n",
              " 'frame': 827,\n",
              " 'competing': 828,\n",
              " 'enjoys': 829,\n",
              " 'string': 830,\n",
              " 'covering': 831,\n",
              " 'professional': 832,\n",
              " 'larger': 833,\n",
              " 'home': 834,\n",
              " 'rollerblade': 835,\n",
              " 'before': 836,\n",
              " 'pigeon': 837,\n",
              " 'jumped': 838,\n",
              " 'seven': 839,\n",
              " 'cut': 840,\n",
              " 'hot': 841,\n",
              " 'safety': 842,\n",
              " 'audience': 843,\n",
              " 'station': 844,\n",
              " 'bikers': 845,\n",
              " 'straw': 846,\n",
              " 'hooded': 847,\n",
              " 'pipe': 848,\n",
              " 'makeup': 849,\n",
              " 'say': 850,\n",
              " 'splashed': 851,\n",
              " 'playfully': 852,\n",
              " 'cloth': 853,\n",
              " 'paw': 854,\n",
              " 'preparing': 855,\n",
              " 'multicolored': 856,\n",
              " 'kneel': 857,\n",
              " 'mound': 858,\n",
              " 'photographer': 859,\n",
              " 'camouflage': 860,\n",
              " 'music': 861,\n",
              " 'indoors': 862,\n",
              " 'muzzled': 863,\n",
              " 'shadow': 864,\n",
              " 'item': 865,\n",
              " 'construction': 866,\n",
              " 'lined': 867,\n",
              " 'alone': 868,\n",
              " 'bank': 869,\n",
              " 'computer': 870,\n",
              " 'shaggy': 871,\n",
              " 'landing': 872,\n",
              " 'writing': 873,\n",
              " 'grab': 874,\n",
              " 'hoodie': 875,\n",
              " 'gate': 876,\n",
              " 'parachute': 877,\n",
              " 'himself': 878,\n",
              " 'follows': 879,\n",
              " 'spinning': 880,\n",
              " 'roll': 881,\n",
              " 'doorway': 882,\n",
              " 'passing': 883,\n",
              " 'flight': 884,\n",
              " 'quickly': 885,\n",
              " 'color': 886,\n",
              " 'half': 887,\n",
              " 'naked': 888,\n",
              " 'foreground': 889,\n",
              " 'referee': 890,\n",
              " 'dune': 891,\n",
              " 'cover': 892,\n",
              " 'these': 893,\n",
              " 'pack': 894,\n",
              " 'roller': 895,\n",
              " 'necklace': 896,\n",
              " 'see': 897,\n",
              " 'counter': 898,\n",
              " 'fur': 899,\n",
              " 'fair': 900,\n",
              " 'opposite': 901,\n",
              " 'driver': 902,\n",
              " 'sea': 903,\n",
              " 'spiderman': 904,\n",
              " 'violin': 905,\n",
              " 'lab': 906,\n",
              " 'us': 907,\n",
              " 'mat': 908,\n",
              " 'cheek': 909,\n",
              " 'collie': 910,\n",
              " 'wagon': 911,\n",
              " 'crouch': 912,\n",
              " 'peace': 913,\n",
              " 'rubber': 914,\n",
              " 'denim': 915,\n",
              " 'patch': 916,\n",
              " 'headscarf': 917,\n",
              " 'martial': 918,\n",
              " 'wheelie': 919,\n",
              " 'staircase': 920,\n",
              " 'direction': 921,\n",
              " 'caught': 922,\n",
              " 'range': 923,\n",
              " 'barking': 924,\n",
              " 'drum': 925,\n",
              " 'sooner': 926,\n",
              " 'policeman': 927,\n",
              " 'frozen': 928,\n",
              " 'dive': 929,\n",
              " 'kneeling': 930,\n",
              " 'cold': 931,\n",
              " 'walkway': 932,\n",
              " 'enjoying': 933,\n",
              " 'peak': 934,\n",
              " 'spread': 935,\n",
              " 'crashing': 936,\n",
              " 'stripe': 937,\n",
              " 'medium': 938,\n",
              " 'dead': 939,\n",
              " 'rollerblading': 940,\n",
              " 'grocery': 941,\n",
              " 'chest': 942,\n",
              " 'member': 943,\n",
              " 'rodeo': 944,\n",
              " 'swan': 945,\n",
              " 'mountainside': 946,\n",
              " 'redheaded': 947,\n",
              " 'sandal': 948,\n",
              " 'shown': 949,\n",
              " 'turning': 950,\n",
              " 'monkey': 951,\n",
              " 'formal': 952,\n",
              " 'made': 953,\n",
              " 'only': 954,\n",
              " 'shade': 955,\n",
              " 'curb': 956,\n",
              " 'touching': 957,\n",
              " 'watched': 958,\n",
              " 'tricycle': 959,\n",
              " 'sized': 960,\n",
              " 'onstage': 961,\n",
              " 'perform': 962,\n",
              " 'decorated': 963,\n",
              " 'tail': 964,\n",
              " 'robe': 965,\n",
              " 'bounce': 966,\n",
              " 'tutu': 967,\n",
              " 'grind': 968,\n",
              " 'kayaking': 969,\n",
              " 'beam': 970,\n",
              " 'helping': 971,\n",
              " 'pier': 972,\n",
              " 'closed': 973,\n",
              " 'blurry': 974,\n",
              " 'waterskiing': 975,\n",
              " 'balcony': 976,\n",
              " 'taken': 977,\n",
              " 'lift': 978,\n",
              " 'training': 979,\n",
              " 'sniffing': 980,\n",
              " 'embrace': 981,\n",
              " 'hillside': 982,\n",
              " 'lick': 983,\n",
              " 'surrounding': 984,\n",
              " 'thumb': 985,\n",
              " 'strip': 986,\n",
              " 'fan': 987,\n",
              " 'working': 988,\n",
              " 'happily': 989,\n",
              " 'cave': 990,\n",
              " 'pine': 991,\n",
              " 'sharp': 992,\n",
              " 'wade': 993,\n",
              " 'biking': 994,\n",
              " 'eat': 995,\n",
              " 'suspended': 996,\n",
              " 'bear': 997,\n",
              " 'soda': 998,\n",
              " 'rug': 999,\n",
              " 'pair': 1000,\n",
              " ...}"
            ]
          },
          "metadata": {},
          "execution_count": 50
        }
      ],
      "source": [
        "tokenizer.word_index"
      ]
    },
    {
      "cell_type": "markdown",
      "id": "db3281e6",
      "metadata": {
        "id": "db3281e6"
      },
      "source": [
        "# Train dataset"
      ]
    },
    {
      "cell_type": "markdown",
      "id": "4568dc89",
      "metadata": {
        "id": "4568dc89"
      },
      "source": [
        "## Tokenizing the train captions and storing it in lists"
      ]
    },
    {
      "cell_type": "code",
      "execution_count": 51,
      "id": "cf4a1ece",
      "metadata": {
        "id": "cf4a1ece"
      },
      "outputs": [],
      "source": [
        "img_name_train, caption_train = path_cap_list(train_img_names, tokenizer, train_img_cap)"
      ]
    },
    {
      "cell_type": "code",
      "execution_count": 52,
      "id": "3263c645",
      "metadata": {
        "colab": {
          "base_uri": "https://localhost:8080/"
        },
        "id": "3263c645",
        "outputId": "8177a7a0-0540-429e-95c0-cb2397092904"
      },
      "outputs": [
        {
          "output_type": "execute_result",
          "data": {
            "text/plain": [
              "['/content/flickr8k/Flicker8k_Dataset/1000268201_693b08cb0e.jpg',\n",
              " '/content/flickr8k/Flicker8k_Dataset/1000268201_693b08cb0e.jpg',\n",
              " '/content/flickr8k/Flicker8k_Dataset/1000268201_693b08cb0e.jpg',\n",
              " '/content/flickr8k/Flicker8k_Dataset/1000268201_693b08cb0e.jpg',\n",
              " '/content/flickr8k/Flicker8k_Dataset/1000268201_693b08cb0e.jpg',\n",
              " '/content/flickr8k/Flicker8k_Dataset/1001773457_577c3a7d70.jpg',\n",
              " '/content/flickr8k/Flicker8k_Dataset/1001773457_577c3a7d70.jpg',\n",
              " '/content/flickr8k/Flicker8k_Dataset/1001773457_577c3a7d70.jpg',\n",
              " '/content/flickr8k/Flicker8k_Dataset/1001773457_577c3a7d70.jpg',\n",
              " '/content/flickr8k/Flicker8k_Dataset/1001773457_577c3a7d70.jpg']"
            ]
          },
          "metadata": {},
          "execution_count": 52
        }
      ],
      "source": [
        "img_name_train[:10]"
      ]
    },
    {
      "cell_type": "code",
      "execution_count": 53,
      "id": "ab8d56fb",
      "metadata": {
        "colab": {
          "base_uri": "https://localhost:8080/"
        },
        "id": "ab8d56fb",
        "outputId": "1f12e751-f7e6-4112-916c-256642635a2e"
      },
      "outputs": [
        {
          "output_type": "execute_result",
          "data": {
            "text/plain": [
              "[array([  2,  28,   4,  90, 142,   8, 121,  60, 367,  12, 358,   4,  29,\n",
              "          1, 618,   3,   0,   0,   0,   0,   0,   0,   0,   0,   0,   0,\n",
              "          0,   0,   0,   0,   0,   0,   0,   0], dtype=int32),\n",
              " array([  2,  15, 316,  70, 197, 110,   3,   0,   0,   0,   0,   0,   0,\n",
              "          0,   0,   0,   0,   0,   0,   0,   0,   0,   0,   0,   0,   0,\n",
              "          0,   0,   0,   0,   0,   0,   0,   0], dtype=int32),\n",
              " array([   2,   40,   15,  121,   70,  197, 1840,    3,    0,    0,    0,\n",
              "           0,    0,    0,    0,    0,    0,    0,    0,    0,    0,    0,\n",
              "           0,    0,    0,    0,    0,    0,    0,    0,    0,    0,    0,\n",
              "           0], dtype=int32),\n",
              " array([   2,   40,   15,  121,    5,  358,   20,   65, 1840,    3,    0,\n",
              "           0,    0,    0,    0,    0,    0,    0,    0,    0,    0,    0,\n",
              "           0,    0,    0,    0,    0,    0,    0,    0,    0,    0,    0,\n",
              "           0], dtype=int32),\n",
              " array([  2,  40,  15,   4,  90, 142, 316,  70, 197,   1,   3,   0,   0,\n",
              "          0,   0,   0,   0,   0,   0,   0,   0,   0,   0,   0,   0,   0,\n",
              "          0,   0,   0,   0,   0,   0,   0,   0], dtype=int32),\n",
              " array([  2,  18,   7,   9, 817,   7,  19, 349,   3,   0,   0,   0,   0,\n",
              "          0,   0,   0,   0,   0,   0,   0,   0,   0,   0,   0,   0,   0,\n",
              "          0,   0,   0,   0,   0,   0,   0,   0], dtype=int32),\n",
              " array([   2,   18,    7,    9, 1418,    7,   34,   10,  144,   84,    6,\n",
              "           5,  155,    3,    0,    0,    0,    0,    0,    0,    0,    0,\n",
              "           0,    0,    0,    0,    0,    0,    0,    0,    0,    0,    0,\n",
              "           0], dtype=int32),\n",
              " array([  2,  18,   7,   9,  17,   7,  10,  25, 746,  19, 608,  22, 144,\n",
              "         84,   4,   5,  74,   3,   0,   0,   0,   0,   0,   0,   0,   0,\n",
              "          0,   0,   0,   0,   0,   0,   0,   0], dtype=int32),\n",
              " array([   2,   13,    7,   12,  798, 1285,   85,   22,  144,   84,    6,\n",
              "           5,  155,    3,    0,    0,    0,    0,    0,    0,    0,    0,\n",
              "           0,    0,    0,    0,    0,    0,    0,    0,    0,    0,    0,\n",
              "           0], dtype=int32),\n",
              " array([  2,  13,   7,   6, 646, 818, 318, 144,  84,   3,   0,   0,   0,\n",
              "          0,   0,   0,   0,   0,   0,   0,   0,   0,   0,   0,   0,   0,\n",
              "          0,   0,   0,   0,   0,   0,   0,   0], dtype=int32)]"
            ]
          },
          "metadata": {},
          "execution_count": 53
        }
      ],
      "source": [
        "caption_train[:10]"
      ]
    },
    {
      "cell_type": "markdown",
      "id": "227dfe97",
      "metadata": {
        "id": "227dfe97"
      },
      "source": [
        "## Creating train dataset"
      ]
    },
    {
      "cell_type": "code",
      "execution_count": 54,
      "id": "e5788a07",
      "metadata": {
        "id": "e5788a07"
      },
      "outputs": [],
      "source": [
        "train_dataset = create_dataset(img_name_train, caption_train)"
      ]
    },
    {
      "cell_type": "markdown",
      "id": "a49c00e0",
      "metadata": {
        "id": "a49c00e0"
      },
      "source": [
        "# Test Dataset"
      ]
    },
    {
      "cell_type": "markdown",
      "id": "08711bbe",
      "metadata": {
        "id": "08711bbe"
      },
      "source": [
        "## Loading the test img names"
      ]
    },
    {
      "cell_type": "code",
      "execution_count": 55,
      "id": "4327dd79",
      "metadata": {
        "id": "4327dd79"
      },
      "outputs": [],
      "source": [
        "test_img_names = sorted(load_set(TEST_TXT_PATH))"
      ]
    },
    {
      "cell_type": "markdown",
      "id": "69d9eae5",
      "metadata": {
        "id": "69d9eae5"
      },
      "source": [
        "## Loading the test img captions as a dict"
      ]
    },
    {
      "cell_type": "code",
      "execution_count": 56,
      "id": "65bdcc33",
      "metadata": {
        "id": "65bdcc33"
      },
      "outputs": [],
      "source": [
        "test_img_cap = load_clean_cap(CLEAN_CAP_TEXT_PATH, test_img_names)"
      ]
    },
    {
      "cell_type": "code",
      "execution_count": 57,
      "id": "69e34070",
      "metadata": {
        "scrolled": false,
        "colab": {
          "base_uri": "https://localhost:8080/"
        },
        "id": "69e34070",
        "outputId": "275346a9-8d4e-41a2-edf9-5f0bbf31b5c2"
      },
      "outputs": [
        {
          "output_type": "execute_result",
          "data": {
            "text/plain": [
              "1000"
            ]
          },
          "metadata": {},
          "execution_count": 57
        }
      ],
      "source": [
        "len(test_img_cap)"
      ]
    },
    {
      "cell_type": "markdown",
      "id": "96e95350",
      "metadata": {
        "id": "96e95350"
      },
      "source": [
        "## Creating the test dataset"
      ]
    },
    {
      "cell_type": "code",
      "execution_count": 58,
      "id": "994e85ba",
      "metadata": {
        "id": "994e85ba"
      },
      "outputs": [],
      "source": [
        "img_name_test, caption_test = path_cap_list(test_img_names, tokenizer, test_img_cap)"
      ]
    },
    {
      "cell_type": "code",
      "execution_count": 59,
      "id": "c5e313d0",
      "metadata": {
        "id": "c5e313d0"
      },
      "outputs": [],
      "source": [
        "test_dataset = create_dataset(img_name_test, caption_test)"
      ]
    },
    {
      "cell_type": "markdown",
      "id": "ea53b761",
      "metadata": {
        "id": "ea53b761"
      },
      "source": [
        "# Defining some constants"
      ]
    },
    {
      "cell_type": "code",
      "execution_count": 60,
      "id": "8c007f7c",
      "metadata": {
        "id": "8c007f7c"
      },
      "outputs": [],
      "source": [
        "embedding_dim = 256\n",
        "units = 512\n",
        "vocab_size = len(tokenizer.word_index) + 1 # 6537\n",
        "num_steps = len(train_img_names) // BATCH_SIZE  # 187\n",
        "EPOCHS = 20\n",
        "# Shape from last layer of VGG-16 :(7,7,512)\n",
        "# So, say there are 49 pixel locations now and each pixel is 512 dimensional\n",
        "features_shape = 512\n",
        "attention_features_shape = 49"
      ]
    },
    {
      "cell_type": "markdown",
      "id": "d7e576d4",
      "metadata": {
        "id": "d7e576d4"
      },
      "source": [
        "# Model"
      ]
    },
    {
      "cell_type": "code",
      "execution_count": 61,
      "id": "4422635b",
      "metadata": {
        "id": "4422635b"
      },
      "outputs": [],
      "source": [
        "class BahdanauAttention(tf.keras.Model):\n",
        "  def __init__(self, units):\n",
        "    super(BahdanauAttention, self).__init__()\n",
        "    self.W1 = tf.keras.layers.Dense(units)\n",
        "    self.W2 = tf.keras.layers.Dense(units)\n",
        "    self.V = tf.keras.layers.Dense(1)\n",
        "\n",
        "  def call(self, features, hidden):\n",
        "    # features(CNN_encoder output) shape == (batch_size, 64, embedding_dim)\n",
        "\n",
        "    # hidden shape == (batch_size, hidden_size)\n",
        "    # hidden_with_time_axis shape == (batch_size, 1, hidden_size)\n",
        "    hidden_with_time_axis = tf.expand_dims(hidden, 1)\n",
        "\n",
        "    # attention_hidden_layer shape == (batch_size, 64, units)\n",
        "    attention_hidden_layer = (tf.nn.tanh(self.W1(features) +\n",
        "                                         self.W2(hidden_with_time_axis)))\n",
        "\n",
        "    # score shape == (batch_size, 64, 1)\n",
        "    # This gives you an unnormalized score for each image feature.\n",
        "    score = self.V(attention_hidden_layer)\n",
        "\n",
        "    # attention_weights shape == (batch_size, 64, 1)\n",
        "    attention_weights = tf.nn.softmax(score, axis=1)\n",
        "\n",
        "    # context_vector shape after sum == (batch_size, hidden_size)\n",
        "    context_vector = attention_weights * features\n",
        "    context_vector = tf.reduce_sum(context_vector, axis=1)\n",
        "\n",
        "    return context_vector, attention_weights"
      ]
    },
    {
      "cell_type": "code",
      "execution_count": 62,
      "id": "67d423e8",
      "metadata": {
        "id": "67d423e8"
      },
      "outputs": [],
      "source": [
        "class CNN_Encoder(tf.keras.Model):\n",
        "    # Since you have already extracted the features and dumped it\n",
        "    # This encoder passes those features through a Fully connected layer\n",
        "    def __init__(self, embedding_dim):\n",
        "        super(CNN_Encoder, self).__init__()\n",
        "        # shape after fc == (batch_size, 49, embedding_dim)\n",
        "        self.fc = tf.keras.layers.Dense(embedding_dim)\n",
        "\n",
        "    def call(self, x):\n",
        "        x = self.fc(x)\n",
        "        x = tf.nn.relu(x)\n",
        "        return x"
      ]
    },
    {
      "cell_type": "code",
      "execution_count": 63,
      "id": "0f85f22a",
      "metadata": {
        "id": "0f85f22a"
      },
      "outputs": [],
      "source": [
        "def rnn_type(units):\n",
        "  # If you have a GPU, we recommend using CuDNNGRU(provides a 3x speedup than GRU)\n",
        "  # the code automatically does that.\n",
        "    if tf.test.is_gpu_available():\n",
        "        return tf.compat.v1.keras.layers.CuDNNLSTM(units,\n",
        "                                        return_sequences=True,\n",
        "                                        return_state=True,\n",
        "                                        recurrent_initializer='glorot_uniform')\n",
        "    else:\n",
        "        return tf.keras.layers.GRU(units,\n",
        "                                   return_sequences=True,\n",
        "                                   return_state=True,\n",
        "                                   recurrent_activation='sigmoid',\n",
        "                                   recurrent_initializer='glorot_uniform')"
      ]
    },
    {
      "cell_type": "code",
      "execution_count": 64,
      "id": "fae868ee",
      "metadata": {
        "id": "fae868ee"
      },
      "outputs": [],
      "source": [
        "class RNN_Decoder(tf.keras.Model):\n",
        "  def __init__(self, embedding_dim, units, vocab_size):\n",
        "    super(RNN_Decoder, self).__init__()\n",
        "    self.units = units\n",
        "\n",
        "    self.embedding = tf.keras.layers.Embedding(vocab_size, embedding_dim)\n",
        "#     self.gru = rnn_type(self.units)\n",
        "    self.gru = tf.keras.layers.GRU(self.units,\n",
        "                                   return_sequences=True,\n",
        "                                   return_state=True,\n",
        "                                   recurrent_initializer='glorot_uniform')\n",
        "    self.fc1 = tf.keras.layers.Dense(self.units)\n",
        "    self.fc2 = tf.keras.layers.Dense(vocab_size)\n",
        "\n",
        "    self.attention = BahdanauAttention(self.units)\n",
        "\n",
        "  def call(self, x, features, hidden):\n",
        "    # defining attention as a separate model\n",
        "    context_vector, attention_weights = self.attention(features, hidden)\n",
        "\n",
        "    # x shape after passing through embedding == (batch_size, 1, embedding_dim)\n",
        "    x = self.embedding(x)\n",
        "\n",
        "    # x shape after concatenation == (batch_size, 1, embedding_dim + hidden_size)\n",
        "    x = tf.concat([tf.expand_dims(context_vector, 1), x], axis=-1)\n",
        "\n",
        "    # passing the concatenated vector to the GRU\n",
        "    output, state = self.gru(x)\n",
        "\n",
        "    # shape == (batch_size, MAX_CAP_LEN, hidden_size)\n",
        "    x = self.fc1(output)\n",
        "\n",
        "    # x shape == (batch_size * MAX_CAP_LEN, hidden_size)\n",
        "    x = tf.reshape(x, (-1, x.shape[2]))\n",
        "\n",
        "    # output shape == (batch_size * MAX_CAP_LEN, vocab)\n",
        "    x = self.fc2(x)\n",
        "\n",
        "    return x, state, attention_weights\n",
        "\n",
        "  def reset_state(self, batch_size):\n",
        "    return tf.zeros((batch_size, self.units))"
      ]
    },
    {
      "cell_type": "code",
      "source": [
        "class RNN_Decoder(tf.keras.Model):\n",
        "  def __init__(self, embedding_dim, units, vocab_size):\n",
        "    super(RNN_Decoder, self).__init__()\n",
        "    self.units = units\n",
        "\n",
        "    self.embedding = tf.keras.layers.Embedding(vocab_size, embedding_dim)\n",
        "\n",
        "    # Use a simple GRU without return_state and return_sequences\n",
        "    self.gru = tf.keras.layers.GRU(\n",
        "        self.units,\n",
        "        return_sequences=True,\n",
        "        recurrent_initializer='glorot_uniform'\n",
        "    )\n",
        "\n",
        "    self.fc1 = tf.keras.layers.Dense(self.units)\n",
        "    self.fc2 = tf.keras.layers.Dense(vocab_size)\n",
        "\n",
        "    self.attention = BahdanauAttention(self.units)\n",
        "\n",
        "  def call(self, x, features, hidden):\n",
        "    # defining attention as a separate model\n",
        "    context_vector, attention_weights = self.attention(features, hidden)\n",
        "\n",
        "    # x shape after passing through embedding == (batch_size, 1, embedding_dim)\n",
        "    x = self.embedding(x)\n",
        "\n",
        "    # x shape after concatenation == (batch_size, 1, embedding_dim + hidden_size)\n",
        "    x = tf.concat([tf.expand_dims(context_vector, 1), x], axis=-1)\n",
        "\n",
        "    # passing the concatenated vector to the GRU\n",
        "    # Use GRU without return_state for simplicity\n",
        "    output = self.gru(x)\n",
        "\n",
        "    # Get the last time step's output as the new hidden state\n",
        "    state = output[:, -1, :]\n",
        "\n",
        "    # shape == (batch_size, MAX_CAP_LEN, hidden_size)\n",
        "    x = self.fc1(output)\n",
        "\n",
        "    # x shape == (batch_size * MAX_CAP_LEN, hidden_size)\n",
        "    x = tf.reshape(x, (-1, x.shape[2]))\n",
        "\n",
        "    # output shape == (batch_size * MAX_CAP_LEN, vocab)\n",
        "    x = self.fc2(x)\n",
        "\n",
        "    return x, state, attention_weights\n",
        "\n",
        "  def reset_state(self, batch_size):\n",
        "    return tf.zeros((batch_size, self.units))"
      ],
      "metadata": {
        "id": "Ys5Y918JoKMP"
      },
      "id": "Ys5Y918JoKMP",
      "execution_count": 65,
      "outputs": []
    },
    {
      "cell_type": "code",
      "execution_count": 66,
      "id": "9e666edd",
      "metadata": {
        "id": "9e666edd"
      },
      "outputs": [],
      "source": [
        "encoder = CNN_Encoder(embedding_dim)\n",
        "decoder = RNN_Decoder(embedding_dim, units, vocab_size)"
      ]
    },
    {
      "cell_type": "code",
      "execution_count": 67,
      "id": "fff6313e",
      "metadata": {
        "id": "fff6313e"
      },
      "outputs": [],
      "source": [
        "optimizer = tf.keras.optimizers.Adam()\n",
        "loss_object = tf.keras.losses.SparseCategoricalCrossentropy(\n",
        "    from_logits=True, reduction='none')\n",
        "\n",
        "\n",
        "def loss_function(real, pred):\n",
        "  mask = tf.math.logical_not(tf.math.equal(real, 0))\n",
        "  loss_ = loss_object(real, pred)\n",
        "\n",
        "  mask = tf.cast(mask, dtype=loss_.dtype)\n",
        "  loss_ *= mask\n",
        "\n",
        "  return tf.reduce_mean(loss_)"
      ]
    },
    {
      "cell_type": "markdown",
      "id": "22687584",
      "metadata": {
        "id": "22687584"
      },
      "source": [
        "# Checkpoint"
      ]
    },
    {
      "cell_type": "code",
      "execution_count": 68,
      "id": "a7ce368b",
      "metadata": {
        "execution": {
          "iopub.execute_input": "2021-04-02T01:48:39.553957Z",
          "iopub.status.busy": "2021-04-02T01:48:39.552992Z",
          "iopub.status.idle": "2021-04-02T01:48:39.555163Z",
          "shell.execute_reply": "2021-04-02T01:48:39.555549Z"
        },
        "id": "a7ce368b"
      },
      "outputs": [],
      "source": [
        "checkpoint_path = \"/content/drive/MyDrive/flickr8k/checkpoints\"\n",
        "ckpt = tf.train.Checkpoint(encoder=encoder,\n",
        "                           decoder=decoder,\n",
        "                           optimizer=optimizer)\n",
        "ckpt_manager = tf.train.CheckpointManager(ckpt, checkpoint_path, max_to_keep=5)"
      ]
    },
    {
      "cell_type": "code",
      "execution_count": 69,
      "id": "ca6e9174",
      "metadata": {
        "execution": {
          "iopub.execute_input": "2021-04-02T01:48:39.560183Z",
          "iopub.status.busy": "2021-04-02T01:48:39.559277Z",
          "iopub.status.idle": "2021-04-02T01:48:39.561984Z",
          "shell.execute_reply": "2021-04-02T01:48:39.561485Z"
        },
        "id": "ca6e9174"
      },
      "outputs": [],
      "source": [
        "start_epoch = 0\n",
        "if ckpt_manager.latest_checkpoint:\n",
        "  start_epoch = int(ckpt_manager.latest_checkpoint.split('-')[-1])\n",
        "  # restoring the latest checkpoint in checkpoint_path\n",
        "  ckpt.restore(ckpt_manager.latest_checkpoint)"
      ]
    },
    {
      "cell_type": "code",
      "execution_count": 70,
      "id": "7500e35d",
      "metadata": {
        "execution": {
          "iopub.execute_input": "2021-04-02T01:48:39.566197Z",
          "iopub.status.busy": "2021-04-02T01:48:39.565231Z",
          "iopub.status.idle": "2021-04-02T01:48:39.567763Z",
          "shell.execute_reply": "2021-04-02T01:48:39.567232Z"
        },
        "id": "7500e35d"
      },
      "outputs": [],
      "source": [
        "# adding this in a separate cell because if you run the training cell\n",
        "# many times, the loss_plot array will be reset\n",
        "loss_plot = []"
      ]
    },
    {
      "cell_type": "code",
      "execution_count": 71,
      "id": "8b2bf971",
      "metadata": {
        "execution": {
          "iopub.execute_input": "2021-04-02T01:48:39.575388Z",
          "iopub.status.busy": "2021-04-02T01:48:39.574440Z",
          "iopub.status.idle": "2021-04-02T01:48:39.576980Z",
          "shell.execute_reply": "2021-04-02T01:48:39.576396Z"
        },
        "id": "8b2bf971"
      },
      "outputs": [],
      "source": [
        "def train_step(img_tensor, target):\n",
        "    loss = 0\n",
        "\n",
        "    # initializing the hidden state for each batch\n",
        "    hidden = decoder.reset_state(batch_size=target.shape[0])\n",
        "\n",
        "    dec_input = tf.expand_dims([tokenizer.word_index['startofseq']] * target.shape[0], 1)\n",
        "\n",
        "    with tf.GradientTape() as tape:\n",
        "        features = encoder(img_tensor)\n",
        "\n",
        "        for i in range(1, target.shape[1]):\n",
        "            # passing the features through the decoder\n",
        "            predictions, hidden, _ = decoder(dec_input, features, hidden)\n",
        "\n",
        "            loss += loss_function(target[:, i], predictions)\n",
        "\n",
        "            # using teacher forcing\n",
        "            dec_input = tf.expand_dims(target[:, i], 1)\n",
        "\n",
        "    total_loss = (loss / int(target.shape[1]))\n",
        "\n",
        "    trainable_variables = encoder.trainable_variables + decoder.trainable_variables\n",
        "\n",
        "    gradients = tape.gradient(loss, trainable_variables)\n",
        "\n",
        "    optimizer.apply_gradients(zip(gradients, trainable_variables))\n",
        "\n",
        "    return loss, total_loss"
      ]
    },
    {
      "cell_type": "code",
      "execution_count": 72,
      "id": "74ca1aec",
      "metadata": {
        "colab": {
          "base_uri": "https://localhost:8080/"
        },
        "id": "74ca1aec",
        "outputId": "5620aef0-9967-435b-ada5-25aa41ee989f"
      },
      "outputs": [
        {
          "name": "stdout",
          "output_type": "stream",
          "text": [
            "Do you want to load weights ? [y/Y] n\n"
          ]
        }
      ],
      "source": [
        "# Loading weights\n",
        "if str(input(\"Do you want to load weights ? [y/Y] \")).casefold() == 'y':\n",
        "  encoder.load_weights(\"/content/drive/MyDrive/flickr8k/Encoder_train_1_8k.weights.h5\")\n",
        "  decoder.load_weights(\"/content/drive/MyDrive/flickr8k/Decoder_train_1_8k.weights.h5\")"
      ]
    },
    {
      "cell_type": "code",
      "source": [
        "import os\n",
        "\n",
        "file_path = \"/content/drive/MyDrive/flickr8k/Flicker8k_Dataset/1244485675_822e6efe60.jpg.npy\"\n",
        "print(\"File exists:\", os.path.exists(file_path))\n"
      ],
      "metadata": {
        "colab": {
          "base_uri": "https://localhost:8080/"
        },
        "id": "jmMAqffUuh4Y",
        "outputId": "8707cd25-b07f-45cd-d57c-edc31c7e4554"
      },
      "id": "jmMAqffUuh4Y",
      "execution_count": 73,
      "outputs": [
        {
          "output_type": "stream",
          "name": "stdout",
          "text": [
            "File exists: False\n"
          ]
        }
      ]
    },
    {
      "cell_type": "code",
      "execution_count": 74,
      "id": "4df1b5f8",
      "metadata": {
        "execution": {
          "iopub.execute_input": "2021-04-02T01:48:39.583840Z",
          "iopub.status.busy": "2021-04-02T01:48:39.582898Z",
          "iopub.status.idle": "2021-04-02T02:05:08.368215Z",
          "shell.execute_reply": "2021-04-02T02:05:08.368655Z"
        },
        "id": "4df1b5f8",
        "colab": {
          "base_uri": "https://localhost:8080/"
        },
        "outputId": "709da494-8ad0-49c6-904c-53289c6a4236"
      },
      "outputs": [
        {
          "output_type": "stream",
          "name": "stdout",
          "text": [
            "Epoch 1 Batch 0 Loss 2.7614\n",
            "Epoch 1 Batch 100 Loss 1.5270\n",
            "Epoch 1 Batch 200 Loss 1.2810\n",
            "Epoch 1 Loss 7.043269\n",
            "Time taken for 1 epoch 475.27 sec\n",
            "\n",
            "Epoch 2 Batch 0 Loss 1.2811\n",
            "Epoch 2 Batch 100 Loss 1.0924\n",
            "Epoch 2 Batch 200 Loss 1.0684\n",
            "Epoch 2 Loss 5.440335\n",
            "Time taken for 1 epoch 471.00 sec\n",
            "\n",
            "Epoch 3 Batch 0 Loss 1.0168\n",
            "Epoch 3 Batch 100 Loss 0.9861\n",
            "Epoch 3 Batch 200 Loss 0.9630\n",
            "Epoch 3 Loss 4.926462\n",
            "Time taken for 1 epoch 471.00 sec\n",
            "\n",
            "Epoch 4 Batch 0 Loss 0.9215\n",
            "Epoch 4 Batch 100 Loss 0.8618\n",
            "Epoch 4 Batch 200 Loss 0.8987\n",
            "Epoch 4 Loss 4.593573\n",
            "Time taken for 1 epoch 477.75 sec\n",
            "\n",
            "Epoch 5 Batch 0 Loss 0.8372\n",
            "Epoch 5 Batch 100 Loss 0.8102\n",
            "Epoch 5 Batch 200 Loss 0.8035\n",
            "Epoch 5 Loss 4.334173\n",
            "Time taken for 1 epoch 479.51 sec\n",
            "\n"
          ]
        }
      ],
      "source": [
        "EPOCHS = 5\n",
        "\n",
        "for epoch in range(start_epoch, EPOCHS):\n",
        "    start = time.time()\n",
        "    total_loss = 0\n",
        "\n",
        "    for (batch, (img_tensor, target)) in enumerate(train_dataset):\n",
        "        batch_loss, t_loss = train_step(img_tensor, target)\n",
        "        total_loss += t_loss\n",
        "\n",
        "        if batch % 100 == 0:\n",
        "            average_batch_loss = batch_loss.numpy()/int(target.shape[1])\n",
        "            print(f'Epoch {epoch+1} Batch {batch} Loss {average_batch_loss:.4f}')\n",
        "    # storing the epoch end loss value to plot later\n",
        "    loss_plot.append(total_loss / num_steps)\n",
        "\n",
        "    if epoch % 5 == 0:\n",
        "      ckpt_manager.save()\n",
        "\n",
        "    print(f'Epoch {epoch+1} Loss {total_loss/num_steps:.6f}')\n",
        "    print(f'Time taken for 1 epoch {time.time()-start:.2f} sec\\n')"
      ]
    },
    {
      "cell_type": "code",
      "source": [
        "print(\"img_tensor shape:\", img_tensor.shape)\n",
        "print(\"target shape:\", target.shape)"
      ],
      "metadata": {
        "colab": {
          "base_uri": "https://localhost:8080/"
        },
        "id": "EzDmCLaPnl06",
        "outputId": "a4b46fa3-37e3-438b-b9ef-1c722fcfc885"
      },
      "id": "EzDmCLaPnl06",
      "execution_count": 75,
      "outputs": [
        {
          "output_type": "stream",
          "name": "stdout",
          "text": [
            "img_tensor shape: (100, 49, 512)\n",
            "target shape: (100, 34)\n"
          ]
        }
      ]
    },
    {
      "cell_type": "code",
      "execution_count": 76,
      "id": "eeab9827",
      "metadata": {
        "execution": {
          "iopub.execute_input": "2021-04-02T02:05:08.388459Z",
          "iopub.status.busy": "2021-04-02T02:05:08.387197Z",
          "iopub.status.idle": "2021-04-02T02:05:08.531959Z",
          "shell.execute_reply": "2021-04-02T02:05:08.531457Z"
        },
        "id": "eeab9827",
        "scrolled": true,
        "colab": {
          "base_uri": "https://localhost:8080/",
          "height": 472
        },
        "outputId": "fb5ece7d-c9fb-4ef1-f99c-751df85d2cae"
      },
      "outputs": [
        {
          "output_type": "display_data",
          "data": {
            "text/plain": [
              "<Figure size 640x480 with 1 Axes>"
            ],
            "image/png": "[encoded data removed]"
          },
          "metadata": {}
        }
      ],
      "source": [
        "plt.plot(loss_plot)\n",
        "plt.xlabel('Epochs')\n",
        "plt.ylabel('Loss')\n",
        "plt.title('Loss Plot')\n",
        "plt.show()"
      ]
    },
    {
      "cell_type": "markdown",
      "id": "85238025",
      "metadata": {
        "id": "85238025"
      },
      "source": [
        "# Saving Weights"
      ]
    },
    {
      "cell_type": "code",
      "execution_count": 77,
      "id": "37ac0fbb",
      "metadata": {
        "id": "37ac0fbb",
        "colab": {
          "base_uri": "https://localhost:8080/"
        },
        "outputId": "61d87b0a-ff19-48a8-8403-6421a9d7341a"
      },
      "outputs": [
        {
          "output_type": "stream",
          "name": "stdout",
          "text": [
            "Encoder weights saved\n"
          ]
        }
      ],
      "source": [
        "if not os.path.isfile(\"Encoder_train_1_8k.weights.h5\"):\n",
        "    encoder.save_weights(\"Encoder_train_1_8k.weights.h5\")\n",
        "    print(\"Encoder weights saved\")\n"
      ]
    },
    {
      "cell_type": "code",
      "execution_count": 78,
      "id": "caffc283",
      "metadata": {
        "id": "caffc283",
        "colab": {
          "base_uri": "https://localhost:8080/"
        },
        "outputId": "326a210b-6f18-4472-951b-59ef6bef32c0"
      },
      "outputs": [
        {
          "output_type": "stream",
          "name": "stdout",
          "text": [
            "Decoder weights saved\n"
          ]
        }
      ],
      "source": [
        "if not os.path.isfile(\"Decoder_train_1_8k.weights.h5\"):\n",
        "    decoder.save_weights(\"Decoder_train_1_8k.weights.h5\")\n",
        "    print(\"Decoder weights saved\")\n"
      ]
    },
    {
      "cell_type": "code",
      "execution_count": 79,
      "id": "1c1cb74e",
      "metadata": {
        "execution": {
          "iopub.execute_input": "2021-04-02T02:05:08.540198Z",
          "iopub.status.busy": "2021-04-02T02:05:08.539560Z",
          "iopub.status.idle": "2021-04-02T02:05:08.541377Z",
          "shell.execute_reply": "2021-04-02T02:05:08.541803Z"
        },
        "id": "1c1cb74e"
      },
      "outputs": [],
      "source": [
        "def evaluate(image):\n",
        "    attention_plot = np.zeros((MAX_CAP_LEN, attention_features_shape))\n",
        "\n",
        "    hidden = decoder.reset_state(batch_size=1)\n",
        "\n",
        "    temp_input = tf.expand_dims(load_img(image)[0], 0)\n",
        "    img_tensor_val = image_features_extract_model(temp_input)\n",
        "    img_tensor_val = tf.reshape(img_tensor_val, (img_tensor_val.shape[0],\n",
        "                                                 -1,\n",
        "                                                 img_tensor_val.shape[3]))\n",
        "    features = encoder(img_tensor_val)\n",
        "\n",
        "    dec_input = tf.expand_dims([tokenizer.word_index['startofseq']], 0)\n",
        "    result = []\n",
        "\n",
        "    for i in range(MAX_CAP_LEN):\n",
        "        predictions, hidden, attention_weights = decoder(dec_input,\n",
        "                                                         features,\n",
        "                                                         hidden)\n",
        "\n",
        "        attention_plot[i] = tf.reshape(attention_weights, (-1, )).numpy()\n",
        "\n",
        "        predicted_id = tf.random.categorical(predictions, 1)[0][0].numpy()\n",
        "        result.append(tokenizer.index_word[predicted_id])\n",
        "\n",
        "        if tokenizer.index_word[predicted_id] == 'endofseq':\n",
        "            return result, attention_plot\n",
        "\n",
        "        dec_input = tf.expand_dims([predicted_id], 0)\n",
        "\n",
        "    attention_plot = attention_plot[:len(result), :]\n",
        "    return result, attention_plot"
      ]
    },
    {
      "cell_type": "code",
      "execution_count": 80,
      "id": "f3d436ab",
      "metadata": {
        "execution": {
          "iopub.execute_input": "2021-04-02T02:05:08.547848Z",
          "iopub.status.busy": "2021-04-02T02:05:08.547263Z",
          "iopub.status.idle": "2021-04-02T02:05:08.549193Z",
          "shell.execute_reply": "2021-04-02T02:05:08.549567Z"
        },
        "id": "f3d436ab"
      },
      "outputs": [],
      "source": [
        "def plot_attention(image, result, attention_plot):\n",
        "    temp_image = np.array(Image.open(image))\n",
        "\n",
        "    fig = plt.figure(figsize=(10, 10))\n",
        "\n",
        "    len_result = len(result)\n",
        "    for i in range(len_result - 1):\n",
        "        temp_att = np.resize(attention_plot[i], (8, 8))\n",
        "        grid_size = max(np.ceil(len_result/2), 2)\n",
        "        ax = fig.add_subplot(grid_size, grid_size, i+1)\n",
        "        ax.set_title(result[i])\n",
        "        img = ax.imshow(temp_image)\n",
        "        ax.imshow(temp_att, cmap='gray', alpha=0.6, extent=img.get_extent())\n",
        "\n",
        "    plt.tight_layout()\n",
        "    plt.show()"
      ]
    },
    {
      "cell_type": "markdown",
      "id": "21bb4d14",
      "metadata": {
        "id": "21bb4d14"
      },
      "source": [
        "# Validation"
      ]
    },
    {
      "cell_type": "code",
      "execution_count": 81,
      "id": "9512ffe8",
      "metadata": {
        "id": "9512ffe8"
      },
      "outputs": [],
      "source": [
        "VAL_TXT_PATH = \"/content/drive/MyDrive/flickr8k/Flickr_8k.devImages.txt\""
      ]
    },
    {
      "cell_type": "code",
      "execution_count": 82,
      "id": "2e1d2bf3",
      "metadata": {
        "id": "2e1d2bf3"
      },
      "outputs": [],
      "source": [
        "val_img_names = sorted(load_set(TEST_TXT_PATH))"
      ]
    },
    {
      "cell_type": "code",
      "execution_count": 83,
      "id": "0cfe0db2",
      "metadata": {
        "id": "0cfe0db2"
      },
      "outputs": [],
      "source": [
        "val_img_cap = load_clean_cap(CLEAN_CAP_TEXT_PATH, val_img_names)"
      ]
    },
    {
      "cell_type": "code",
      "execution_count": 84,
      "id": "7c2da0a4",
      "metadata": {
        "scrolled": true,
        "id": "7c2da0a4",
        "colab": {
          "base_uri": "https://localhost:8080/"
        },
        "outputId": "d2f55c9d-14eb-4d56-a8ab-c0694a5745c3"
      },
      "outputs": [
        {
          "output_type": "execute_result",
          "data": {
            "text/plain": [
              "1000"
            ]
          },
          "metadata": {},
          "execution_count": 84
        }
      ],
      "source": [
        "len(val_img_cap)"
      ]
    },
    {
      "cell_type": "code",
      "execution_count": 111,
      "id": "74ba918f",
      "metadata": {
        "id": "74ba918f"
      },
      "outputs": [],
      "source": [
        "image_name = val_img_names[np.random.randint(0, len(val_img_names))]\n",
        "img_path = img_name_2_path(image_name)\n",
        "real_captions = val_img_cap[image_name]"
      ]
    },
    {
      "cell_type": "code",
      "execution_count": 112,
      "id": "7dde31d4",
      "metadata": {
        "execution": {
          "iopub.execute_input": "2021-04-02T02:05:08.555410Z",
          "iopub.status.busy": "2021-04-02T02:05:08.554801Z",
          "iopub.status.idle": "2021-04-02T02:05:10.500706Z",
          "shell.execute_reply": "2021-04-02T02:05:10.501131Z"
        },
        "id": "7dde31d4",
        "colab": {
          "base_uri": "https://localhost:8080/"
        },
        "outputId": "3af4ea58-106f-456e-c446-fd980f810a8a"
      },
      "outputs": [
        {
          "output_type": "stream",
          "name": "stdout",
          "text": [
            "Prediction Caption: little boy walk on dirt beach\n",
            "Real Captions:\n",
            "1)  little boy run away from the approaching wave of the ocean \n",
            "2)  little girl run across the wet beach \n",
            "3)  little girl run on the wet sand near the ocean \n",
            "4)  young girl run across wet beach with the ocean in the background \n",
            "5)  child running on the beach \n"
          ]
        }
      ],
      "source": [
        "result, attention_plot = evaluate(img_path)\n",
        "print('Prediction Caption:', ' '.join(result[:-1]))\n",
        "print('Real Captions:')\n",
        "for i, cap in enumerate(real_captions):\n",
        "    print(f\"{i+1}) {cap[10:-8]}\")\n"
      ]
    },
    {
      "cell_type": "code",
      "source": [
        "Image.open(img_path)"
      ],
      "metadata": {
        "colab": {
          "base_uri": "https://localhost:8080/",
          "height": 517
        },
        "id": "06FRKiE22I4U",
        "outputId": "8e617d17-508d-4b0a-83dc-7d3f55acaed2"
      },
      "id": "06FRKiE22I4U",
      "execution_count": 113,
      "outputs": [
        {
          "output_type": "execute_result",
          "data": {
            "text/plain": [
              "<PIL.JpegImagePlugin.JpegImageFile image mode=RGB size=348x500>"
            ],
            "image/png": "[encoded data removed]",
            "image/jpeg": "[encoded data removed]"
          },
          "metadata": {},
          "execution_count": 113
        }
      ]
    },
    {
      "cell_type": "code",
      "source": [
        "import nltk\n",
        "from nltk.translate.bleu_score import sentence_bleu, SmoothingFunction\n",
        "from rouge_score import rouge_scorer\n",
        "from nltk.translate.meteor_score import meteor_score\n",
        "\n",
        "nltk.download('wordnet')\n",
        "nltk.download('omw-1.4')\n",
        "\n",
        "def calculate_metrics(pred_caption, real_captions):\n",
        "\n",
        "    pred_tokens = pred_caption.split()\n",
        "    real_tokens = [caption.split() for caption in real_captions]\n",
        "    smoothie = SmoothingFunction().method1\n",
        "    bleu_1 = sentence_bleu(real_tokens, pred_tokens, weights=(1, 0, 0, 0), smoothing_function=smoothie)  # BLEU-1\n",
        "    bleu_2 = sentence_bleu(real_tokens, pred_tokens, weights=(0.5, 0.5, 0, 0), smoothing_function=smoothie)  # BLEU-2\n",
        "    bleu_3 = sentence_bleu(real_tokens, pred_tokens, weights=(0.33, 0.33, 0.33, 0), smoothing_function=smoothie)  # BLEU-3\n",
        "    bleu_4 = sentence_bleu(real_tokens, pred_tokens, weights=(0.25, 0.25, 0.25, 0.25), smoothing_function=smoothie)  # BLEU-4\n",
        "\n",
        "    # ROUGE Score Calculation\n",
        "    scorer = rouge_scorer.RougeScorer(['rouge1', 'rouge2', 'rougeL'], use_stemmer=True)\n",
        "    rouge_scores = [scorer.score(pred_caption, cap) for cap in real_captions]\n",
        "    avg_rouge = {\n",
        "        \"rouge1\": sum([s['rouge1'].fmeasure for s in rouge_scores]) / len(rouge_scores),\n",
        "        \"rouge2\": sum([s['rouge2'].fmeasure for s in rouge_scores]) / len(rouge_scores),\n",
        "        \"rougeL\": sum([s['rougeL'].fmeasure for s in rouge_scores]) / len(rouge_scores),\n",
        "    }\n",
        "\n",
        "    # METEOR Score Calculation (Fixed)\n",
        "    meteor_scores = [meteor_score([cap.split()], pred_tokens) for cap in real_captions]  # Pass tokenized captions\n",
        "    avg_meteor = sum(meteor_scores) / len(meteor_scores)\n",
        "\n",
        "    return {\n",
        "        \"BLEU-1\": bleu_1,\n",
        "        \"BLEU-2\": bleu_2,\n",
        "        \"BLEU-3\": bleu_3,\n",
        "        \"BLEU-4\": bleu_4,\n",
        "        \"ROUGE-1\": avg_rouge[\"rouge1\"],\n",
        "        \"ROUGE-2\": avg_rouge[\"rouge2\"],\n",
        "        \"ROUGE-L\": avg_rouge[\"rougeL\"],\n",
        "        \"METEOR\": avg_meteor\n",
        "    }\n",
        "\n",
        "predicted_caption = ' '.join(result[:-1])  # Extracting predicted caption\n",
        "metrics = calculate_metrics(predicted_caption, real_captions)\n",
        "\n",
        "print(\"\\nEvaluation Scores:\")\n",
        "for metric, score in metrics.items():\n",
        "    print(f\"{metric}: {score:.4f}\")\n"
      ],
      "metadata": {
        "colab": {
          "base_uri": "https://localhost:8080/"
        },
        "id": "JJqXkqmh3R4l",
        "outputId": "b423c9d3-c8ad-428c-dcc6-b6db2e5a61f6"
      },
      "id": "JJqXkqmh3R4l",
      "execution_count": 114,
      "outputs": [
        {
          "output_type": "stream",
          "name": "stdout",
          "text": [
            "\n",
            "Evaluation Scores:\n",
            "BLEU-1: 0.5643\n",
            "BLEU-2: 0.3091\n",
            "BLEU-3: 0.1289\n",
            "BLEU-4: 0.0869\n",
            "ROUGE-1: 0.2214\n",
            "ROUGE-2: 0.0235\n",
            "ROUGE-L: 0.2214\n",
            "METEOR: 0.1076\n"
          ]
        },
        {
          "output_type": "stream",
          "name": "stderr",
          "text": [
            "[nltk_data] Downloading package wordnet to /root/nltk_data...\n",
            "[nltk_data]   Package wordnet is already up-to-date!\n",
            "[nltk_data] Downloading package omw-1.4 to /root/nltk_data...\n",
            "[nltk_data]   Package omw-1.4 is already up-to-date!\n"
          ]
        }
      ]
    },
    {
      "cell_type": "code",
      "source": [],
      "metadata": {
        "id": "DYYZnVB91YOn"
      },
      "id": "DYYZnVB91YOn",
      "execution_count": 104,
      "outputs": []
    }
  ],
  "metadata": {
    "kernelspec": {
      "display_name": "Python 3",
      "name": "python3"
    },
    "language_info": {
      "codemirror_mode": {
        "name": "ipython",
        "version": 3
      },
      "file_extension": ".py",
      "mimetype": "text/x-python",
      "name": "python",
      "nbconvert_exporter": "python",
      "pygments_lexer": "ipython3",
      "version": "3.9.12"
    },
    "vscode": {
      "interpreter": {
        "hash": "ad2bdc8ecc057115af97d19610ffacc2b4e99fae6737bb82f5d7fb13d2f2c186"
      }
    },
    "colab": {
      "provenance": [],
      "gpuType": "T4"
    },
    "accelerator": "GPU"
  },
  "nbformat": 4,
  "nbformat_minor": 5
}